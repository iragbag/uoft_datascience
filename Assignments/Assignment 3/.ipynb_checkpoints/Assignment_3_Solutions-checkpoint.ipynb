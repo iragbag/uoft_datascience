{
 "cells": [
  {
   "cell_type": "markdown",
   "metadata": {},
   "source": [
    "Before you turn this problem in, make sure everything runs as expected. First, **restart the kernel** (in the menu bar, select Kernel$\\rightarrow$Restart) and then **run all cells** (in the menu bar, select Cell$\\rightarrow$Run All).\n",
    "\n",
    "Below, please fill in your name and collaborators:"
   ]
  },
  {
   "cell_type": "code",
   "execution_count": 1,
   "metadata": {},
   "outputs": [],
   "source": [
    "NAME = \"Raghav Sharma\"\n",
    "COLLABORATORS = \"\""
   ]
  },
  {
   "cell_type": "markdown",
   "metadata": {},
   "source": [
    "# Assignment 3 - Time Series Analysis\n",
    "**(15 points total)**"
   ]
  },
  {
   "cell_type": "markdown",
   "metadata": {},
   "source": [
    "## Assignment tasks:"
   ]
  },
  {
   "cell_type": "markdown",
   "metadata": {},
   "source": [
    "In this assignment you will conduct time series analysis of the financial data. \n",
    "\n",
    "1. Setup your environment to access and download latest stock data. Please see instructions below for different tools you can use to get the data. You can use any of the options provided, either Quandl or Yahoo Finance. If you know of any other service to download the data, please use that service, provide an explanation in the comments.\n",
    "\n",
    "2. *(2 points)* Download the **adjusted** close prices for FB, MMM, IBM and AMZN for the last 60 months. If you run into any issues downloading the data from online sources, you can use `.csv` files provided. This will not affect your grade for the assignment.\n",
    "\n",
    "3. *(3 points)* Resample the data to get prices for the end of the **business** month. Select the **Adjusted Close** for each stock.\n",
    "\n",
    "4. *(3 points)* Use the pandas `autocorrelation_plot()` function to plot the autocorrelation of the adjusted month-end close prices for each of the stocks.\n",
    "    - Are they autocorrelated?\n",
    "    - Provide short explanation.\n",
    "\n",
    "5. *(4 points)* \n",
    "    - Calculate the monthly returns for each stock using the \"shift trick\" explained in the lecture, using `shift()` function. \n",
    "    - Use pandas `autotocorrelation_plot()` to plot the autocorrelation of the monthly returns.\n",
    "    - Are the returns autocorrelated? Provide short explanation.\n",
    "\n",
    "6. *(3 points)*\n",
    "    - Combine all 4 time series (returns) into a single DataFrame,\n",
    "    - Visualize the correlation between the returns of all pairs of stocks using a scatter plot matrix (use `scatter_matrix()` function from `pandas.plotting`).\n",
    "    - Explain the results. Is there any correlation?\n",
    "\n",
    "**NOTES:** \n",
    "1. In this assignment, please make sure the DataFrame(s) do not contain any NAs before you plot autocorrelations or scatter matrix.\n",
    "2. Both options explained below use `pandas-datareader` package for remote data access. To install it, type the following in a command window: `conda install pandas-datareader`. You will also need to install one or more of the following packages `fix_yahoo_finance`, `quandl`. See below.\n",
    "\n",
    "---------"
   ]
  },
  {
   "cell_type": "markdown",
   "metadata": {},
   "source": [
    "## Downloading Stock Prices"
   ]
  },
  {
   "cell_type": "markdown",
   "metadata": {},
   "source": [
    "### Option 1 - Using QUANDL"
   ]
  },
  {
   "cell_type": "markdown",
   "metadata": {},
   "source": [
    "To use QUANDL service, you need to create an account and get an API Key. Here is the short description of steps:\n",
    "\n",
    "- Go to https://www.quandl.com/\n",
    "- Click either `sign up` at the top right corner of the home page, or scroll all the way down and click `Create Free Account` button at the bottom of the page.\n",
    "- Create an account. \n",
    "- You will receive an email to the email address you have used during the registration. Confirm your email.\n",
    "\n",
    "You are all set.\n",
    "\n",
    "Now, as you login into your account, click the avatar icon at the top right corner of the page, select `\"Account Settings.\"`\n",
    "On the next page, you will see `Your API Key` field with a long string of numbers and characters underneath. You need this API key for your call to Quandl from the notebook. In the code below, replace `YOUR_API_KEY` with the actual API key from your account. \n",
    "\n",
    "**NOTE**: You can remove this key before submitting the assignment."
   ]
  },
  {
   "cell_type": "code",
   "execution_count": 2,
   "metadata": {},
   "outputs": [
    {
     "name": "stdout",
     "output_type": "stream",
     "text": [
      "env: QUANDL_API_KEY=r5P_pGeMctmcMgznWsSE\n"
     ]
    }
   ],
   "source": [
    "# all imports and env variables\n",
    "import pandas as pd\n",
    "pd.core.common.is_list_like = pd.api.types.is_list_like\n",
    "import datetime\n",
    "import pandas_datareader.data as web\n",
    "\n",
    "# This line of code should work on Windows and Mac\n",
    "%env QUANDL_API_KEY = r5P_pGeMctmcMgznWsSE\n",
    "\n",
    "# If the above line of code does not work on your system,\n",
    "# You can use this way of setting Quandl env variable\n",
    "import quandl\n",
    "quandl.ApiConfig.api_key = \"r5P_pGeMctmcMgznWsSE\""
   ]
  },
  {
   "cell_type": "code",
   "execution_count": 36,
   "metadata": {
    "scrolled": true
   },
   "outputs": [],
   "source": [
    "# Make sure you adjust the start and end date accordingly\n",
    "# so that the start date = today date\n",
    "from pandas.plotting import autocorrelation_plot,scatter_matrix\n",
    "from matplotlib.pylab import rcParams\n",
    "rcParams['figure.figsize'] = 15,6\n",
    "\n",
    "start = pd.datetime(2015, 3, 22)\n",
    "end = pd.datetime(2020, 3, 22)\n",
    "\n",
    "\n",
    "data_fb = web.DataReader('WIKI/FB', 'quandl', start, end)\n",
    "data_mmm = web.DataReader('WIKI/MMM', 'quandl', start, end)\n",
    "data_ibm = web.DataReader('WIKI/IBM', 'quandl', start, end)\n",
    "data_amzn = web.DataReader('WIKI/AMZN', 'quandl', start, end)"
   ]
  },
  {
   "cell_type": "markdown",
   "metadata": {},
   "source": [
    "## Assumptions\n",
    "\n",
    "#### Following assumptions and decisions have been made before analysis\n",
    "1. The approach take is to important data with Quandl. This is primary due to fix_yahoo_finance not being a functional option at all.\n",
    "2. All the data has been pulled in at the same time with the help if passing a list to the DataReader function\n",
    "3. All analysis for 60months is being done by setting the end date as today: March 22, 2020. And starting date is set to 60 months in the past, i.e, March 22, 2015"
   ]
  },
  {
   "cell_type": "code",
   "execution_count": 4,
   "metadata": {},
   "outputs": [],
   "source": [
    "#print(data_fb)\n",
    "#print(data_mmm)\n",
    "#print(data_ibm)\n",
    "#print(data_amzn)\n"
   ]
  },
  {
   "cell_type": "markdown",
   "metadata": {},
   "source": [
    " Data is imported from all 4 stock sources as expected and the primary grouping is done based on Attributes of the stock. We will extract only the Adjusted Close Prices for now"
   ]
  },
  {
   "cell_type": "code",
   "execution_count": 5,
   "metadata": {},
   "outputs": [],
   "source": [
    "data_fb_adjClose = data_fb.AdjClose\n",
    "data_mmm_adjClose = data_mmm.AdjClose\n",
    "data_ibm_adjClose = data_ibm.AdjClose\n",
    "data_amzn_adjClose = data_amzn.AdjClose"
   ]
  },
  {
   "cell_type": "markdown",
   "metadata": {},
   "source": [
    "### Note\n",
    "As seen above there are no null values for any of the stocks. We should be in the clear to run all of our analysis without necessarily making any adjustments\n"
   ]
  },
  {
   "cell_type": "code",
   "execution_count": 6,
   "metadata": {},
   "outputs": [
    {
     "data": {
      "text/plain": [
       "Date\n",
       "2015-03-31     83.482857\n",
       "2015-04-30     82.089762\n",
       "2015-05-31     79.419750\n",
       "2015-06-30     83.283409\n",
       "2015-07-31     92.054773\n",
       "2015-08-31     91.778571\n",
       "2015-09-30     91.438095\n",
       "2015-10-31     97.129545\n",
       "2015-11-30    105.968750\n",
       "2015-12-31    105.375000\n",
       "2016-01-31     98.982105\n",
       "2016-02-29    105.921000\n",
       "2016-03-31    110.780455\n",
       "2016-04-30    111.934286\n",
       "2016-05-31    118.464762\n",
       "2016-06-30    115.278636\n",
       "2016-07-31    119.167500\n",
       "2016-08-31    124.469130\n",
       "2016-09-30    128.513333\n",
       "2016-10-31    129.709524\n",
       "2016-11-30    120.684762\n",
       "2016-12-31    118.041905\n",
       "2017-01-31    126.817500\n",
       "2017-02-28    133.830526\n",
       "2017-03-31    139.408261\n",
       "2017-04-30    142.965263\n",
       "2017-05-31    150.234091\n",
       "2017-06-30    152.080909\n",
       "2017-07-31    160.532500\n",
       "2017-08-31    169.159130\n",
       "2017-09-30    170.585000\n",
       "2017-10-31    173.306818\n",
       "2017-11-30    179.703500\n",
       "2017-12-31    177.416500\n",
       "2018-01-31    184.962857\n",
       "2018-02-28    180.334205\n",
       "2018-03-31    175.285789\n",
       "Freq: M, Name: AdjClose, dtype: float64"
      ]
     },
     "execution_count": 6,
     "metadata": {},
     "output_type": "execute_result"
    }
   ],
   "source": [
    "fb_resample_mean = data_fb_adjClose.resample(\"M\").mean()\n",
    "fb_resample_mean"
   ]
  },
  {
   "cell_type": "code",
   "execution_count": 7,
   "metadata": {},
   "outputs": [
    {
     "data": {
      "text/plain": [
       "Date\n",
       "2015-03-31    154.321485\n",
       "2015-04-30    152.883505\n",
       "2015-05-31    150.838184\n",
       "2015-06-30    148.824426\n",
       "2015-07-31    145.265017\n",
       "2015-08-31    138.402879\n",
       "2015-09-30    133.617980\n",
       "2015-10-31    143.087428\n",
       "2015-11-30    150.525965\n",
       "2015-12-31    146.270005\n",
       "2016-01-31    135.840802\n",
       "2016-02-29    148.562676\n",
       "2016-03-31    156.736203\n",
       "2016-04-30    161.578450\n",
       "2016-05-31    162.481263\n",
       "2016-06-30    164.756153\n",
       "2016-07-31    173.245276\n",
       "2016-08-31    174.378807\n",
       "2016-09-30    173.326289\n",
       "2016-10-31    165.543083\n",
       "2016-11-30    167.529868\n",
       "2016-12-31    173.689168\n",
       "2017-01-31    174.171598\n",
       "2017-02-28    178.205076\n",
       "2017-03-31    188.593555\n",
       "2017-04-30    189.256401\n",
       "2017-05-31    196.249191\n",
       "2017-06-30    208.127451\n",
       "2017-07-31    206.779674\n",
       "2017-08-31    204.307869\n",
       "2017-09-30    208.996500\n",
       "2017-10-31    221.831818\n",
       "2017-11-30    231.279167\n",
       "2017-12-31    238.260000\n",
       "2018-01-31           NaN\n",
       "2018-02-28           NaN\n",
       "2018-03-31    232.750000\n",
       "Freq: M, Name: AdjClose, dtype: float64"
      ]
     },
     "execution_count": 7,
     "metadata": {},
     "output_type": "execute_result"
    }
   ],
   "source": [
    "mmm_resample_mean = data_mmm_adjClose.resample(\"M\").mean()\n",
    "mmm_resample_mean"
   ]
  },
  {
   "cell_type": "code",
   "execution_count": 8,
   "metadata": {},
   "outputs": [
    {
     "data": {
      "text/plain": [
       "Date\n",
       "2015-03-31    146.108686\n",
       "2015-04-30    149.405957\n",
       "2015-05-31    156.779764\n",
       "2015-06-30    152.307777\n",
       "2015-07-31    150.126650\n",
       "2015-08-31    140.194807\n",
       "2015-09-30    133.560705\n",
       "2015-10-31    134.250021\n",
       "2015-11-30    127.007263\n",
       "2015-12-31    127.949162\n",
       "2016-01-31    119.088725\n",
       "2016-02-29    119.148121\n",
       "2016-03-31    134.610667\n",
       "2016-04-30    139.960182\n",
       "2016-05-31    139.963090\n",
       "2016-06-30    143.284877\n",
       "2016-07-31    149.717516\n",
       "2016-08-31    153.092780\n",
       "2016-09-30    149.704922\n",
       "2016-10-31    146.680259\n",
       "2016-11-30    152.509499\n",
       "2016-12-31    159.292403\n",
       "2017-01-31    164.339813\n",
       "2017-02-28    173.169025\n",
       "2017-03-31    171.355353\n",
       "2017-04-30    162.176945\n",
       "2017-05-31    149.928795\n",
       "2017-06-30    150.746237\n",
       "2017-07-31    147.141905\n",
       "2017-08-31    140.855774\n",
       "2017-09-30    143.433528\n",
       "2017-10-31    149.924655\n",
       "2017-11-30    150.680438\n",
       "2017-12-31    153.927000\n",
       "2018-01-31    163.851905\n",
       "2018-02-28    154.638421\n",
       "2018-03-31    156.256842\n",
       "Freq: M, Name: AdjClose, dtype: float64"
      ]
     },
     "execution_count": 8,
     "metadata": {},
     "output_type": "execute_result"
    }
   ],
   "source": [
    "ibm_resample_mean = data_ibm_adjClose.resample(\"M\").mean()\n",
    "ibm_resample_mean"
   ]
  },
  {
   "cell_type": "code",
   "execution_count": 9,
   "metadata": {},
   "outputs": [
    {
     "data": {
      "text/plain": [
       "Date\n",
       "2015-03-31     372.108571\n",
       "2015-04-30     394.212619\n",
       "2015-05-31     426.927500\n",
       "2015-06-30     432.599545\n",
       "2015-07-31     478.709091\n",
       "2015-08-31     518.464762\n",
       "2015-09-30     520.945238\n",
       "2015-10-31     566.743182\n",
       "2015-11-30     657.695500\n",
       "2015-12-31     669.262273\n",
       "2016-01-31     601.061579\n",
       "2016-02-29     530.620000\n",
       "2016-03-31     572.374091\n",
       "2016-04-30     613.594286\n",
       "2016-05-31     697.473810\n",
       "2016-06-30     716.390455\n",
       "2016-07-31     741.467500\n",
       "2016-08-31     764.839130\n",
       "2016-09-30     788.965238\n",
       "2016-10-31     824.439048\n",
       "2016-11-30     763.335238\n",
       "2016-12-31     763.325238\n",
       "2017-01-31     807.505000\n",
       "2017-02-28     835.745263\n",
       "2017-03-31     854.240000\n",
       "2017-04-30     903.405789\n",
       "2017-05-31     961.707273\n",
       "2017-06-30     990.424091\n",
       "2017-07-31    1008.441750\n",
       "2017-08-31     970.489545\n",
       "2017-09-30     968.992500\n",
       "2017-10-31    1000.720000\n",
       "2017-11-30    1140.154500\n",
       "2017-12-31    1168.841500\n",
       "2018-01-31    1309.047143\n",
       "2018-02-28    1442.702632\n",
       "2018-03-31    1550.954737\n",
       "Freq: M, Name: AdjClose, dtype: float64"
      ]
     },
     "execution_count": 9,
     "metadata": {},
     "output_type": "execute_result"
    }
   ],
   "source": [
    "amzn_resample_mean = data_amzn_adjClose.resample(\"M\").mean()\n",
    "amzn_resample_mean"
   ]
  },
  {
   "cell_type": "code",
   "execution_count": 10,
   "metadata": {},
   "outputs": [
    {
     "data": {
      "text/plain": [
       "<matplotlib.axes._subplots.AxesSubplot at 0x2aabcc54248>"
      ]
     },
     "execution_count": 10,
     "metadata": {},
     "output_type": "execute_result"
    },
    {
     "data": {
      "image/png": "[encoded data removed]",
      "text/plain": [
       "<Figure size 432x288 with 1 Axes>"
      ]
     },
     "metadata": {
      "needs_background": "light"
     },
     "output_type": "display_data"
    }
   ],
   "source": [
    "autocorrelation_plot(fb_resample_mean)"
   ]
  },
  {
   "cell_type": "markdown",
   "metadata": {},
   "source": [
    "### Note: Autocorrelation for FB Stock based on Adjusted Close Price"
   ]
  },
  {
   "cell_type": "code",
   "execution_count": 11,
   "metadata": {},
   "outputs": [
    {
     "data": {
      "text/plain": [
       "<matplotlib.axes._subplots.AxesSubplot at 0x2aabdd36b88>"
      ]
     },
     "execution_count": 11,
     "metadata": {},
     "output_type": "execute_result"
    },
    {
     "data": {
      "image/png": "[encoded data removed]",
      "text/plain": [
       "<Figure size 432x288 with 1 Axes>"
      ]
     },
     "metadata": {
      "needs_background": "light"
     },
     "output_type": "display_data"
    }
   ],
   "source": [
    "autocorrelation_plot(mmm_resample_mean)"
   ]
  },
  {
   "cell_type": "markdown",
   "metadata": {},
   "source": [
    "### Note: Autocorrelation for MMM Stock based on Adjusted Close Price"
   ]
  },
  {
   "cell_type": "code",
   "execution_count": 12,
   "metadata": {},
   "outputs": [
    {
     "data": {
      "text/plain": [
       "<matplotlib.axes._subplots.AxesSubplot at 0x2aabddea488>"
      ]
     },
     "execution_count": 12,
     "metadata": {},
     "output_type": "execute_result"
    },
    {
     "data": {
      "image/png": "[encoded data removed]",
      "text/plain": [
       "<Figure size 432x288 with 1 Axes>"
      ]
     },
     "metadata": {
      "needs_background": "light"
     },
     "output_type": "display_data"
    }
   ],
   "source": [
    "autocorrelation_plot(ibm_resample_mean)"
   ]
  },
  {
   "cell_type": "markdown",
   "metadata": {},
   "source": [
    "### Note: Autocorrelation for IBM Stock based on Adjusted Close Price"
   ]
  },
  {
   "cell_type": "code",
   "execution_count": 13,
   "metadata": {},
   "outputs": [
    {
     "data": {
      "text/plain": [
       "<matplotlib.axes._subplots.AxesSubplot at 0x2aabdcf5e48>"
      ]
     },
     "execution_count": 13,
     "metadata": {},
     "output_type": "execute_result"
    },
    {
     "data": {
      "image/png": "[encoded data removed]",
      "text/plain": [
       "<Figure size 432x288 with 1 Axes>"
      ]
     },
     "metadata": {
      "needs_background": "light"
     },
     "output_type": "display_data"
    }
   ],
   "source": [
    "autocorrelation_plot(amzn_resample_mean)"
   ]
  },
  {
   "cell_type": "markdown",
   "metadata": {},
   "source": [
    "### Note: Autocorrelation for AMZN Stock based on Adjusted Close Price"
   ]
  },
  {
   "cell_type": "markdown",
   "metadata": {},
   "source": [
    "## Looking at Month-End Returns\n"
   ]
  },
  {
   "cell_type": "code",
   "execution_count": 14,
   "metadata": {},
   "outputs": [
    {
     "data": {
      "text/plain": [
       "Date\n",
       "2015-04-30   -0.016687\n",
       "2015-05-31   -0.032526\n",
       "2015-06-30    0.048649\n",
       "2015-07-31    0.105319\n",
       "2015-08-31   -0.003000\n",
       "2015-09-30   -0.003710\n",
       "2015-10-31    0.062244\n",
       "2015-11-30    0.091004\n",
       "2015-12-31   -0.005603\n",
       "2016-01-31   -0.060668\n",
       "2016-02-29    0.070103\n",
       "2016-03-31    0.045878\n",
       "2016-04-30    0.010415\n",
       "2016-05-31    0.058342\n",
       "2016-06-30   -0.026895\n",
       "2016-07-31    0.033734\n",
       "2016-08-31    0.044489\n",
       "2016-09-30    0.032492\n",
       "2016-10-31    0.009308\n",
       "2016-11-30   -0.069577\n",
       "2016-12-31   -0.021899\n",
       "2017-01-31    0.074343\n",
       "2017-02-28    0.055300\n",
       "2017-03-31    0.041678\n",
       "2017-04-30    0.025515\n",
       "2017-05-31    0.050843\n",
       "2017-06-30    0.012293\n",
       "2017-07-31    0.055573\n",
       "2017-08-31    0.053738\n",
       "2017-09-30    0.008429\n",
       "2017-10-31    0.015956\n",
       "2017-11-30    0.036910\n",
       "2017-12-31   -0.012727\n",
       "2018-01-31    0.042535\n",
       "2018-02-28   -0.025025\n",
       "2018-03-31   -0.027995\n",
       "Freq: M, Name: AdjClose, dtype: float64"
      ]
     },
     "execution_count": 14,
     "metadata": {},
     "output_type": "execute_result"
    }
   ],
   "source": [
    "fb_month_returns = fb_resample_mean/fb_resample_mean.shift(1)-1\n",
    "fb_month_returns = fb_month_returns.dropna()\n",
    "fb_month_returns"
   ]
  },
  {
   "cell_type": "code",
   "execution_count": 15,
   "metadata": {},
   "outputs": [
    {
     "data": {
      "text/plain": [
       "<matplotlib.axes._subplots.AxesSubplot at 0x2aabdf29b48>"
      ]
     },
     "execution_count": 15,
     "metadata": {},
     "output_type": "execute_result"
    },
    {
     "data": {
      "image/png": "[encoded data removed]",
      "text/plain": [
       "<Figure size 432x288 with 1 Axes>"
      ]
     },
     "metadata": {
      "needs_background": "light"
     },
     "output_type": "display_data"
    }
   ],
   "source": [
    "autocorrelation_plot(fb_month_returns)"
   ]
  },
  {
   "cell_type": "code",
   "execution_count": 16,
   "metadata": {},
   "outputs": [
    {
     "data": {
      "text/plain": [
       "Date\n",
       "2015-04-30   -0.009318\n",
       "2015-05-31   -0.013378\n",
       "2015-06-30   -0.013350\n",
       "2015-07-31   -0.023917\n",
       "2015-08-31   -0.047239\n",
       "2015-09-30   -0.034572\n",
       "2015-10-31    0.070870\n",
       "2015-11-30    0.051986\n",
       "2015-12-31   -0.028274\n",
       "2016-01-31   -0.071301\n",
       "2016-02-29    0.093653\n",
       "2016-03-31    0.055017\n",
       "2016-04-30    0.030894\n",
       "2016-05-31    0.005587\n",
       "2016-06-30    0.014001\n",
       "2016-07-31    0.051525\n",
       "2016-08-31    0.006543\n",
       "2016-09-30   -0.006036\n",
       "2016-10-31   -0.044905\n",
       "2016-11-30    0.012002\n",
       "2016-12-31    0.036765\n",
       "2017-01-31    0.002778\n",
       "2017-02-28    0.023158\n",
       "2017-03-31    0.058295\n",
       "2017-04-30    0.003515\n",
       "2017-05-31    0.036949\n",
       "2017-06-30    0.060526\n",
       "2017-07-31   -0.006476\n",
       "2017-08-31   -0.011954\n",
       "2017-09-30    0.022949\n",
       "2017-10-31    0.061414\n",
       "2017-11-30    0.042588\n",
       "2017-12-31    0.030184\n",
       "Freq: M, Name: AdjClose, dtype: float64"
      ]
     },
     "execution_count": 16,
     "metadata": {},
     "output_type": "execute_result"
    }
   ],
   "source": [
    "mmm_month_returns = mmm_resample_mean/mmm_resample_mean.shift(1)-1\n",
    "mmm_month_returns = mmm_month_returns.dropna()\n",
    "mmm_month_returns"
   ]
  },
  {
   "cell_type": "code",
   "execution_count": 17,
   "metadata": {},
   "outputs": [
    {
     "data": {
      "text/plain": [
       "<matplotlib.axes._subplots.AxesSubplot at 0x2aabdfb2b08>"
      ]
     },
     "execution_count": 17,
     "metadata": {},
     "output_type": "execute_result"
    },
    {
     "data": {
      "image/png": "[encoded data removed]",
      "text/plain": [
       "<Figure size 432x288 with 1 Axes>"
      ]
     },
     "metadata": {
      "needs_background": "light"
     },
     "output_type": "display_data"
    }
   ],
   "source": [
    "autocorrelation_plot(mmm_month_returns)"
   ]
  },
  {
   "cell_type": "code",
   "execution_count": 18,
   "metadata": {},
   "outputs": [
    {
     "data": {
      "text/plain": [
       "Date\n",
       "2015-04-30    0.022567\n",
       "2015-05-31    0.049354\n",
       "2015-06-30   -0.028524\n",
       "2015-07-31   -0.014321\n",
       "2015-08-31   -0.066156\n",
       "2015-09-30   -0.047321\n",
       "2015-10-31    0.005161\n",
       "2015-11-30   -0.053950\n",
       "2015-12-31    0.007416\n",
       "2016-01-31   -0.069250\n",
       "2016-02-29    0.000499\n",
       "2016-03-31    0.129776\n",
       "2016-04-30    0.039741\n",
       "2016-05-31    0.000021\n",
       "2016-06-30    0.023733\n",
       "2016-07-31    0.044894\n",
       "2016-08-31    0.022544\n",
       "2016-09-30   -0.022129\n",
       "2016-10-31   -0.020204\n",
       "2016-11-30    0.039741\n",
       "2016-12-31    0.044475\n",
       "2017-01-31    0.031686\n",
       "2017-02-28    0.053725\n",
       "2017-03-31   -0.010473\n",
       "2017-04-30   -0.053564\n",
       "2017-05-31   -0.075523\n",
       "2017-06-30    0.005452\n",
       "2017-07-31   -0.023910\n",
       "2017-08-31   -0.042722\n",
       "2017-09-30    0.018301\n",
       "2017-10-31    0.045255\n",
       "2017-11-30    0.005041\n",
       "2017-12-31    0.021546\n",
       "2018-01-31    0.064478\n",
       "2018-02-28   -0.056231\n",
       "2018-03-31    0.010466\n",
       "Freq: M, Name: AdjClose, dtype: float64"
      ]
     },
     "execution_count": 18,
     "metadata": {},
     "output_type": "execute_result"
    }
   ],
   "source": [
    "ibm_month_returns = ibm_resample_mean/ibm_resample_mean.shift(1)-1\n",
    "ibm_month_returns = ibm_month_returns.dropna()\n",
    "ibm_month_returns"
   ]
  },
  {
   "cell_type": "code",
   "execution_count": 19,
   "metadata": {},
   "outputs": [
    {
     "data": {
      "text/plain": [
       "<matplotlib.axes._subplots.AxesSubplot at 0x2aabe012d48>"
      ]
     },
     "execution_count": 19,
     "metadata": {},
     "output_type": "execute_result"
    },
    {
     "data": {
      "image/png": "[encoded data removed]",
      "text/plain": [
       "<Figure size 432x288 with 1 Axes>"
      ]
     },
     "metadata": {
      "needs_background": "light"
     },
     "output_type": "display_data"
    }
   ],
   "source": [
    "autocorrelation_plot(ibm_month_returns)"
   ]
  },
  {
   "cell_type": "code",
   "execution_count": 20,
   "metadata": {},
   "outputs": [
    {
     "data": {
      "text/plain": [
       "Date\n",
       "2015-04-30    0.059402\n",
       "2015-05-31    0.082988\n",
       "2015-06-30    0.013286\n",
       "2015-07-31    0.106587\n",
       "2015-08-31    0.083048\n",
       "2015-09-30    0.004784\n",
       "2015-10-31    0.087913\n",
       "2015-11-30    0.160482\n",
       "2015-12-31    0.017587\n",
       "2016-01-31   -0.101904\n",
       "2016-02-29   -0.117195\n",
       "2016-03-31    0.078689\n",
       "2016-04-30    0.072016\n",
       "2016-05-31    0.136702\n",
       "2016-06-30    0.027122\n",
       "2016-07-31    0.035005\n",
       "2016-08-31    0.031521\n",
       "2016-09-30    0.031544\n",
       "2016-10-31    0.044962\n",
       "2016-11-30   -0.074116\n",
       "2016-12-31   -0.000013\n",
       "2017-01-31    0.057878\n",
       "2017-02-28    0.034972\n",
       "2017-03-31    0.022130\n",
       "2017-04-30    0.057555\n",
       "2017-05-31    0.064535\n",
       "2017-06-30    0.029860\n",
       "2017-07-31    0.018192\n",
       "2017-08-31   -0.037635\n",
       "2017-09-30   -0.001543\n",
       "2017-10-31    0.032743\n",
       "2017-11-30    0.139334\n",
       "2017-12-31    0.025161\n",
       "2018-01-31    0.119953\n",
       "2018-02-28    0.102101\n",
       "2018-03-31    0.075034\n",
       "Freq: M, Name: AdjClose, dtype: float64"
      ]
     },
     "execution_count": 20,
     "metadata": {},
     "output_type": "execute_result"
    }
   ],
   "source": [
    "amzn_month_returns = amzn_resample_mean/amzn_resample_mean.shift(1)-1\n",
    "amzn_month_returns = amzn_month_returns.dropna()\n",
    "amzn_month_returns"
   ]
  },
  {
   "cell_type": "code",
   "execution_count": 21,
   "metadata": {},
   "outputs": [
    {
     "data": {
      "text/plain": [
       "<matplotlib.axes._subplots.AxesSubplot at 0x2aabe012b08>"
      ]
     },
     "execution_count": 21,
     "metadata": {},
     "output_type": "execute_result"
    },
    {
     "data": {
      "image/png": "[encoded data removed]",
      "text/plain": [
       "<Figure size 432x288 with 1 Axes>"
      ]
     },
     "metadata": {
      "needs_background": "light"
     },
     "output_type": "display_data"
    }
   ],
   "source": [
    "autocorrelation_plot(amzn_month_returns)"
   ]
  },
  {
   "cell_type": "code",
   "execution_count": 25,
   "metadata": {
    "scrolled": true
   },
   "outputs": [
    {
     "data": {
      "text/plain": [
       "Date\n",
       "2015-03-31     83.482857\n",
       "2015-04-30     82.089762\n",
       "2015-05-31     79.419750\n",
       "2015-06-30     83.283409\n",
       "2015-07-31     92.054773\n",
       "2015-08-31     91.778571\n",
       "2015-09-30     91.438095\n",
       "2015-10-31     97.129545\n",
       "2015-11-30    105.968750\n",
       "2015-12-31    105.375000\n",
       "2016-01-31     98.982105\n",
       "2016-02-29    105.921000\n",
       "2016-03-31    110.780455\n",
       "2016-04-30    111.934286\n",
       "2016-05-31    118.464762\n",
       "2016-06-30    115.278636\n",
       "2016-07-31    119.167500\n",
       "2016-08-31    124.469130\n",
       "2016-09-30    128.513333\n",
       "2016-10-31    129.709524\n",
       "2016-11-30    120.684762\n",
       "2016-12-31    118.041905\n",
       "2017-01-31    126.817500\n",
       "2017-02-28    133.830526\n",
       "2017-03-31    139.408261\n",
       "2017-04-30    142.965263\n",
       "2017-05-31    150.234091\n",
       "2017-06-30    152.080909\n",
       "2017-07-31    160.532500\n",
       "2017-08-31    169.159130\n",
       "2017-09-30    170.585000\n",
       "2017-10-31    173.306818\n",
       "2017-11-30    179.703500\n",
       "2017-12-31    177.416500\n",
       "2018-01-31    184.962857\n",
       "2018-02-28    180.334205\n",
       "2018-03-31    175.285789\n",
       "Freq: M, Name: AdjClose, dtype: float64"
      ]
     },
     "execution_count": 25,
     "metadata": {},
     "output_type": "execute_result"
    }
   ],
   "source": [
    "fb_resample_mean"
   ]
  },
  {
   "cell_type": "code",
   "execution_count": 39,
   "metadata": {
    "scrolled": true
   },
   "outputs": [
    {
     "data": {
      "text/html": [
       "<div>\n",
       "<style scoped>\n",
       "    .dataframe tbody tr th:only-of-type {\n",
       "        vertical-align: middle;\n",
       "    }\n",
       "\n",
       "    .dataframe tbody tr th {\n",
       "        vertical-align: top;\n",
       "    }\n",
       "\n",
       "    .dataframe thead th {\n",
       "        text-align: right;\n",
       "    }\n",
       "</style>\n",
       "<table border=\"1\" class=\"dataframe\">\n",
       "  <thead>\n",
       "    <tr style=\"text-align: right;\">\n",
       "      <th></th>\n",
       "      <th>FB Returns</th>\n",
       "      <th>MMM Returns</th>\n",
       "      <th>IBM Returns</th>\n",
       "      <th>AMZN Returns</th>\n",
       "    </tr>\n",
       "    <tr>\n",
       "      <th>Date</th>\n",
       "      <th></th>\n",
       "      <th></th>\n",
       "      <th></th>\n",
       "      <th></th>\n",
       "    </tr>\n",
       "  </thead>\n",
       "  <tbody>\n",
       "    <tr>\n",
       "      <td>2015-04-30</td>\n",
       "      <td>-0.016687</td>\n",
       "      <td>-0.009318</td>\n",
       "      <td>0.022567</td>\n",
       "      <td>0.059402</td>\n",
       "    </tr>\n",
       "    <tr>\n",
       "      <td>2015-05-31</td>\n",
       "      <td>-0.032526</td>\n",
       "      <td>-0.013378</td>\n",
       "      <td>0.049354</td>\n",
       "      <td>0.082988</td>\n",
       "    </tr>\n",
       "    <tr>\n",
       "      <td>2015-06-30</td>\n",
       "      <td>0.048649</td>\n",
       "      <td>-0.013350</td>\n",
       "      <td>-0.028524</td>\n",
       "      <td>0.013286</td>\n",
       "    </tr>\n",
       "    <tr>\n",
       "      <td>2015-07-31</td>\n",
       "      <td>0.105319</td>\n",
       "      <td>-0.023917</td>\n",
       "      <td>-0.014321</td>\n",
       "      <td>0.106587</td>\n",
       "    </tr>\n",
       "    <tr>\n",
       "      <td>2015-08-31</td>\n",
       "      <td>-0.003000</td>\n",
       "      <td>-0.047239</td>\n",
       "      <td>-0.066156</td>\n",
       "      <td>0.083048</td>\n",
       "    </tr>\n",
       "    <tr>\n",
       "      <td>2015-09-30</td>\n",
       "      <td>-0.003710</td>\n",
       "      <td>-0.034572</td>\n",
       "      <td>-0.047321</td>\n",
       "      <td>0.004784</td>\n",
       "    </tr>\n",
       "    <tr>\n",
       "      <td>2015-10-31</td>\n",
       "      <td>0.062244</td>\n",
       "      <td>0.070870</td>\n",
       "      <td>0.005161</td>\n",
       "      <td>0.087913</td>\n",
       "    </tr>\n",
       "    <tr>\n",
       "      <td>2015-11-30</td>\n",
       "      <td>0.091004</td>\n",
       "      <td>0.051986</td>\n",
       "      <td>-0.053950</td>\n",
       "      <td>0.160482</td>\n",
       "    </tr>\n",
       "    <tr>\n",
       "      <td>2015-12-31</td>\n",
       "      <td>-0.005603</td>\n",
       "      <td>-0.028274</td>\n",
       "      <td>0.007416</td>\n",
       "      <td>0.017587</td>\n",
       "    </tr>\n",
       "    <tr>\n",
       "      <td>2016-01-31</td>\n",
       "      <td>-0.060668</td>\n",
       "      <td>-0.071301</td>\n",
       "      <td>-0.069250</td>\n",
       "      <td>-0.101904</td>\n",
       "    </tr>\n",
       "    <tr>\n",
       "      <td>2016-02-29</td>\n",
       "      <td>0.070103</td>\n",
       "      <td>0.093653</td>\n",
       "      <td>0.000499</td>\n",
       "      <td>-0.117195</td>\n",
       "    </tr>\n",
       "    <tr>\n",
       "      <td>2016-03-31</td>\n",
       "      <td>0.045878</td>\n",
       "      <td>0.055017</td>\n",
       "      <td>0.129776</td>\n",
       "      <td>0.078689</td>\n",
       "    </tr>\n",
       "    <tr>\n",
       "      <td>2016-04-30</td>\n",
       "      <td>0.010415</td>\n",
       "      <td>0.030894</td>\n",
       "      <td>0.039741</td>\n",
       "      <td>0.072016</td>\n",
       "    </tr>\n",
       "    <tr>\n",
       "      <td>2016-05-31</td>\n",
       "      <td>0.058342</td>\n",
       "      <td>0.005587</td>\n",
       "      <td>0.000021</td>\n",
       "      <td>0.136702</td>\n",
       "    </tr>\n",
       "    <tr>\n",
       "      <td>2016-06-30</td>\n",
       "      <td>-0.026895</td>\n",
       "      <td>0.014001</td>\n",
       "      <td>0.023733</td>\n",
       "      <td>0.027122</td>\n",
       "    </tr>\n",
       "    <tr>\n",
       "      <td>2016-07-31</td>\n",
       "      <td>0.033734</td>\n",
       "      <td>0.051525</td>\n",
       "      <td>0.044894</td>\n",
       "      <td>0.035005</td>\n",
       "    </tr>\n",
       "    <tr>\n",
       "      <td>2016-08-31</td>\n",
       "      <td>0.044489</td>\n",
       "      <td>0.006543</td>\n",
       "      <td>0.022544</td>\n",
       "      <td>0.031521</td>\n",
       "    </tr>\n",
       "    <tr>\n",
       "      <td>2016-09-30</td>\n",
       "      <td>0.032492</td>\n",
       "      <td>-0.006036</td>\n",
       "      <td>-0.022129</td>\n",
       "      <td>0.031544</td>\n",
       "    </tr>\n",
       "    <tr>\n",
       "      <td>2016-10-31</td>\n",
       "      <td>0.009308</td>\n",
       "      <td>-0.044905</td>\n",
       "      <td>-0.020204</td>\n",
       "      <td>0.044962</td>\n",
       "    </tr>\n",
       "    <tr>\n",
       "      <td>2016-11-30</td>\n",
       "      <td>-0.069577</td>\n",
       "      <td>0.012002</td>\n",
       "      <td>0.039741</td>\n",
       "      <td>-0.074116</td>\n",
       "    </tr>\n",
       "    <tr>\n",
       "      <td>2016-12-31</td>\n",
       "      <td>-0.021899</td>\n",
       "      <td>0.036765</td>\n",
       "      <td>0.044475</td>\n",
       "      <td>-0.000013</td>\n",
       "    </tr>\n",
       "    <tr>\n",
       "      <td>2017-01-31</td>\n",
       "      <td>0.074343</td>\n",
       "      <td>0.002778</td>\n",
       "      <td>0.031686</td>\n",
       "      <td>0.057878</td>\n",
       "    </tr>\n",
       "    <tr>\n",
       "      <td>2017-02-28</td>\n",
       "      <td>0.055300</td>\n",
       "      <td>0.023158</td>\n",
       "      <td>0.053725</td>\n",
       "      <td>0.034972</td>\n",
       "    </tr>\n",
       "    <tr>\n",
       "      <td>2017-03-31</td>\n",
       "      <td>0.041678</td>\n",
       "      <td>0.058295</td>\n",
       "      <td>-0.010473</td>\n",
       "      <td>0.022130</td>\n",
       "    </tr>\n",
       "    <tr>\n",
       "      <td>2017-04-30</td>\n",
       "      <td>0.025515</td>\n",
       "      <td>0.003515</td>\n",
       "      <td>-0.053564</td>\n",
       "      <td>0.057555</td>\n",
       "    </tr>\n",
       "    <tr>\n",
       "      <td>2017-05-31</td>\n",
       "      <td>0.050843</td>\n",
       "      <td>0.036949</td>\n",
       "      <td>-0.075523</td>\n",
       "      <td>0.064535</td>\n",
       "    </tr>\n",
       "    <tr>\n",
       "      <td>2017-06-30</td>\n",
       "      <td>0.012293</td>\n",
       "      <td>0.060526</td>\n",
       "      <td>0.005452</td>\n",
       "      <td>0.029860</td>\n",
       "    </tr>\n",
       "    <tr>\n",
       "      <td>2017-07-31</td>\n",
       "      <td>0.055573</td>\n",
       "      <td>-0.006476</td>\n",
       "      <td>-0.023910</td>\n",
       "      <td>0.018192</td>\n",
       "    </tr>\n",
       "    <tr>\n",
       "      <td>2017-08-31</td>\n",
       "      <td>0.053738</td>\n",
       "      <td>-0.011954</td>\n",
       "      <td>-0.042722</td>\n",
       "      <td>-0.037635</td>\n",
       "    </tr>\n",
       "    <tr>\n",
       "      <td>2017-09-30</td>\n",
       "      <td>0.008429</td>\n",
       "      <td>0.022949</td>\n",
       "      <td>0.018301</td>\n",
       "      <td>-0.001543</td>\n",
       "    </tr>\n",
       "    <tr>\n",
       "      <td>2017-10-31</td>\n",
       "      <td>0.015956</td>\n",
       "      <td>0.061414</td>\n",
       "      <td>0.045255</td>\n",
       "      <td>0.032743</td>\n",
       "    </tr>\n",
       "    <tr>\n",
       "      <td>2017-11-30</td>\n",
       "      <td>0.036910</td>\n",
       "      <td>0.042588</td>\n",
       "      <td>0.005041</td>\n",
       "      <td>0.139334</td>\n",
       "    </tr>\n",
       "    <tr>\n",
       "      <td>2017-12-31</td>\n",
       "      <td>-0.012727</td>\n",
       "      <td>0.030184</td>\n",
       "      <td>0.021546</td>\n",
       "      <td>0.025161</td>\n",
       "    </tr>\n",
       "    <tr>\n",
       "      <td>2018-01-31</td>\n",
       "      <td>0.042535</td>\n",
       "      <td>NaN</td>\n",
       "      <td>0.064478</td>\n",
       "      <td>0.119953</td>\n",
       "    </tr>\n",
       "    <tr>\n",
       "      <td>2018-02-28</td>\n",
       "      <td>-0.025025</td>\n",
       "      <td>NaN</td>\n",
       "      <td>-0.056231</td>\n",
       "      <td>0.102101</td>\n",
       "    </tr>\n",
       "    <tr>\n",
       "      <td>2018-03-31</td>\n",
       "      <td>-0.027995</td>\n",
       "      <td>NaN</td>\n",
       "      <td>0.010466</td>\n",
       "      <td>0.075034</td>\n",
       "    </tr>\n",
       "  </tbody>\n",
       "</table>\n",
       "</div>"
      ],
      "text/plain": [
       "            FB Returns  MMM Returns  IBM Returns  AMZN Returns\n",
       "Date                                                          \n",
       "2015-04-30   -0.016687    -0.009318     0.022567      0.059402\n",
       "2015-05-31   -0.032526    -0.013378     0.049354      0.082988\n",
       "2015-06-30    0.048649    -0.013350    -0.028524      0.013286\n",
       "2015-07-31    0.105319    -0.023917    -0.014321      0.106587\n",
       "2015-08-31   -0.003000    -0.047239    -0.066156      0.083048\n",
       "2015-09-30   -0.003710    -0.034572    -0.047321      0.004784\n",
       "2015-10-31    0.062244     0.070870     0.005161      0.087913\n",
       "2015-11-30    0.091004     0.051986    -0.053950      0.160482\n",
       "2015-12-31   -0.005603    -0.028274     0.007416      0.017587\n",
       "2016-01-31   -0.060668    -0.071301    -0.069250     -0.101904\n",
       "2016-02-29    0.070103     0.093653     0.000499     -0.117195\n",
       "2016-03-31    0.045878     0.055017     0.129776      0.078689\n",
       "2016-04-30    0.010415     0.030894     0.039741      0.072016\n",
       "2016-05-31    0.058342     0.005587     0.000021      0.136702\n",
       "2016-06-30   -0.026895     0.014001     0.023733      0.027122\n",
       "2016-07-31    0.033734     0.051525     0.044894      0.035005\n",
       "2016-08-31    0.044489     0.006543     0.022544      0.031521\n",
       "2016-09-30    0.032492    -0.006036    -0.022129      0.031544\n",
       "2016-10-31    0.009308    -0.044905    -0.020204      0.044962\n",
       "2016-11-30   -0.069577     0.012002     0.039741     -0.074116\n",
       "2016-12-31   -0.021899     0.036765     0.044475     -0.000013\n",
       "2017-01-31    0.074343     0.002778     0.031686      0.057878\n",
       "2017-02-28    0.055300     0.023158     0.053725      0.034972\n",
       "2017-03-31    0.041678     0.058295    -0.010473      0.022130\n",
       "2017-04-30    0.025515     0.003515    -0.053564      0.057555\n",
       "2017-05-31    0.050843     0.036949    -0.075523      0.064535\n",
       "2017-06-30    0.012293     0.060526     0.005452      0.029860\n",
       "2017-07-31    0.055573    -0.006476    -0.023910      0.018192\n",
       "2017-08-31    0.053738    -0.011954    -0.042722     -0.037635\n",
       "2017-09-30    0.008429     0.022949     0.018301     -0.001543\n",
       "2017-10-31    0.015956     0.061414     0.045255      0.032743\n",
       "2017-11-30    0.036910     0.042588     0.005041      0.139334\n",
       "2017-12-31   -0.012727     0.030184     0.021546      0.025161\n",
       "2018-01-31    0.042535          NaN     0.064478      0.119953\n",
       "2018-02-28   -0.025025          NaN    -0.056231      0.102101\n",
       "2018-03-31   -0.027995          NaN     0.010466      0.075034"
      ]
     },
     "execution_count": 39,
     "metadata": {},
     "output_type": "execute_result"
    }
   ],
   "source": [
    "stocks_month_returns = pd.concat([fb_month_returns,mmm_month_returns,ibm_month_returns,amzn_month_returns],axis=1)\n",
    "stocks_month_returns.columns = [\"FB Returns\",\"MMM Returns\", \"IBM Returns\", \"AMZN Returns\" ]\n",
    "stocks_month_returns"
   ]
  },
  {
   "cell_type": "code",
   "execution_count": 40,
   "metadata": {},
   "outputs": [
    {
     "data": {
      "text/plain": [
       "array([[<matplotlib.axes._subplots.AxesSubplot object at 0x000002AAD0ABA848>,\n",
       "        <matplotlib.axes._subplots.AxesSubplot object at 0x000002AAD0AD8D48>,\n",
       "        <matplotlib.axes._subplots.AxesSubplot object at 0x000002AAD08F24C8>,\n",
       "        <matplotlib.axes._subplots.AxesSubplot object at 0x000002AAD0926EC8>],\n",
       "       [<matplotlib.axes._subplots.AxesSubplot object at 0x000002AAD09628C8>,\n",
       "        <matplotlib.axes._subplots.AxesSubplot object at 0x000002AAD099C2C8>,\n",
       "        <matplotlib.axes._subplots.AxesSubplot object at 0x000002AAD09D2C48>,\n",
       "        <matplotlib.axes._subplots.AxesSubplot object at 0x000002AAD0A0AC88>],\n",
       "       [<matplotlib.axes._subplots.AxesSubplot object at 0x000002AAD0A14888>,\n",
       "        <matplotlib.axes._subplots.AxesSubplot object at 0x000002AAD0A4CA48>,\n",
       "        <matplotlib.axes._subplots.AxesSubplot object at 0x000002AAD0C91FC8>,\n",
       "        <matplotlib.axes._subplots.AxesSubplot object at 0x000002AAD0CCF088>],\n",
       "       [<matplotlib.axes._subplots.AxesSubplot object at 0x000002AAD0D08188>,\n",
       "        <matplotlib.axes._subplots.AxesSubplot object at 0x000002AAD0D402C8>,\n",
       "        <matplotlib.axes._subplots.AxesSubplot object at 0x000002AAD0D7A3C8>,\n",
       "        <matplotlib.axes._subplots.AxesSubplot object at 0x000002AAD0DB34C8>]],\n",
       "      dtype=object)"
      ]
     },
     "execution_count": 40,
     "metadata": {},
     "output_type": "execute_result"
    },
    {
     "data": {
      "image/png": "[encoded data removed]",
      "text/plain": [
       "<Figure size 1080x432 with 16 Axes>"
      ]
     },
     "metadata": {
      "needs_background": "light"
     },
     "output_type": "display_data"
    }
   ],
   "source": [
    "scatter_matrix(stocks_month_returns,alpha=0.2)"
   ]
  },
  {
   "cell_type": "code",
   "execution_count": null,
   "metadata": {},
   "outputs": [],
   "source": []
  }
 ],
 "metadata": {
  "kernelspec": {
   "display_name": "Python 3",
   "language": "python",
   "name": "python3"
  },
  "language_info": {
   "codemirror_mode": {
    "name": "ipython",
    "version": 3
   },
   "file_extension": ".py",
   "mimetype": "text/x-python",
   "name": "python",
   "nbconvert_exporter": "python",
   "pygments_lexer": "ipython3",
   "version": "3.7.4"
  },
  "toc": {
   "base_numbering": 1,
   "nav_menu": {},
   "number_sections": false,
   "sideBar": true,
   "skip_h1_title": false,
   "title_cell": "Table of Contents",
   "title_sidebar": "Contents",
   "toc_cell": false,
   "toc_position": {},
   "toc_section_display": true,
   "toc_window_display": false
  }
 },
 "nbformat": 4,
 "nbformat_minor": 2
}
