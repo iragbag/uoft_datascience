{
 "cells": [
  {
   "cell_type": "markdown",
   "metadata": {},
   "source": [
    "# Module 8: Introduction to Machine Learning Part 1"
   ]
  },
  {
   "cell_type": "markdown",
   "metadata": {
    "toc": true
   },
   "source": [
    "<h1>Table of Contents<span class=\"tocSkip\"></span></h1>\n",
    "<div class=\"toc\"><ul class=\"toc-item\"><li><span><a href=\"#Introduction\" data-toc-modified-id=\"Introduction-1\"><span class=\"toc-item-num\">1&nbsp;&nbsp;</span>Introduction</a></span></li><li><span><a href=\"#Learning-Outcomes\" data-toc-modified-id=\"Learning-Outcomes-2\"><span class=\"toc-item-num\">2&nbsp;&nbsp;</span>Learning Outcomes</a></span></li><li><span><a href=\"#Readings-and-Resources\" data-toc-modified-id=\"Readings-and-Resources-3\"><span class=\"toc-item-num\">3&nbsp;&nbsp;</span>Readings and Resources</a></span></li><li><span><a href=\"#Introduction-to-Machine-Learning\" data-toc-modified-id=\"Introduction-to-Machine-Learning-4\"><span class=\"toc-item-num\">4&nbsp;&nbsp;</span>Introduction to Machine Learning</a></span><ul class=\"toc-item\"><li><span><a href=\"#Definitions-of-Machine-Learning\" data-toc-modified-id=\"Definitions-of-Machine-Learning-4.1\"><span class=\"toc-item-num\">4.1&nbsp;&nbsp;</span>Definitions of Machine Learning</a></span></li><li><span><a href=\"#Machine-learning-model:-Predictor-and-target\" data-toc-modified-id=\"Machine-learning-model:-Predictor-and-target-4.2\"><span class=\"toc-item-num\">4.2&nbsp;&nbsp;</span>Machine learning model: Predictor and target</a></span></li><li><span><a href=\"#Supervised-and-unsupervised-learning\" data-toc-modified-id=\"Supervised-and-unsupervised-learning-4.3\"><span class=\"toc-item-num\">4.3&nbsp;&nbsp;</span>Supervised and unsupervised learning</a></span></li><li><span><a href=\"#Supervised-learning:-Regression-and-Classification\" data-toc-modified-id=\"Supervised-learning:-Regression-and-Classification-4.4\"><span class=\"toc-item-num\">4.4&nbsp;&nbsp;</span>Supervised learning: Regression and Classification</a></span></li></ul></li><li><span><a href=\"#Linear-Regression\" data-toc-modified-id=\"Linear-Regression-5\"><span class=\"toc-item-num\">5&nbsp;&nbsp;</span>Linear Regression</a></span><ul class=\"toc-item\"><li><span><a href=\"#Interpreting-Regression-Results\" data-toc-modified-id=\"Interpreting-Regression-Results-5.1\"><span class=\"toc-item-num\">5.1&nbsp;&nbsp;</span>Interpreting Regression Results</a></span><a class=\"toc-item\"><li><span><a href=\"#Evaluating-the-Regression-Model\" data-toc-modified-id=\"Evaluating-the-Regression-Model-5.2\"><span class=\"toc-item-num\">5.2&nbsp;&nbsp;</span>Evaluating the Regression Model</a></span></li><a class=\"toc-item\"><li><span><a href=\"#Gradient-Descent\" data-toc-modified-id=\"Gradient-Descent-5.3\"><span class=\"toc-item-num\">5.3&nbsp;&nbsp;</span>Gradient Descent</a></span></li><li><span><a href=\"#Outliers-and-leverage\" data-toc-modified-id=\"Outliers-and-leverage-5.4\"><span class=\"toc-item-num\">5.4&nbsp;&nbsp;</span>Outliers and leverage</a></span></li><li><span><a href=\"#Linear-regression-with-scikit-learn\" data-toc-modified-id=\"Linear-regression-with-scikit-learn-5.5\"><span class=\"toc-item-num\">5.5&nbsp;&nbsp;</span>Linear regression with scikit-learn</a></span></li></ul></li><li><span><a href=\"#K-Nearest-Neighbors-(kNN)\" data-toc-modified-id=\"K-Nearest-Neighbors-(kNN)-6\"><span class=\"toc-item-num\">6&nbsp;&nbsp;</span>K-Nearest Neighbors (kNN)</a></span></li><li><span><a href=\"#References\" data-toc-modified-id=\"References-7\"><span class=\"toc-item-num\">7&nbsp;&nbsp;</span>References</a></span></li></ul></div>"
   ]
  },
  {
   "cell_type": "markdown",
   "metadata": {},
   "source": [
    "*\"We are drowning in information and starving for knowledge.\" -Rutherford D. Roger*"
   ]
  },
  {
   "cell_type": "markdown",
   "metadata": {},
   "source": [
    "## Introduction"
   ]
  },
  {
   "cell_type": "markdown",
   "metadata": {},
   "source": [
    "The next two modules are designed to give an introduction to Machine Learning (ML)."
   ]
  },
  {
   "cell_type": "markdown",
   "metadata": {},
   "source": [
    "## Learning Outcomes"
   ]
  },
  {
   "cell_type": "markdown",
   "metadata": {},
   "source": [
    "In this module you will learn and practice:\n",
    "* different types of machine learning problems, \n",
    "* supervised and unsupervised learning\n",
    "* regression as central tool in supervised ML\n",
    "* how to built prediction model \n",
    "* how to evaluate model\n",
    "* statistical meaning of regression analysis"
   ]
  },
  {
   "cell_type": "markdown",
   "metadata": {},
   "source": [
    "## Readings and Resources"
   ]
  },
  {
   "cell_type": "markdown",
   "metadata": {},
   "source": [
    "The majority of the notebook content draws from the recommended readings. We invite you to further supplement this notebook with the following recommended texts.\n",
    "\n",
    "Geron, A. (2017) *Hands-on Machine Learning with Scikit-Learn and TensorFlow*. O'Reilly Media.\n",
    "\n",
    "Witten, I. H. and Frank, E. (2005) *Data Mining. Practical Machine Learning Tools and Techniques* (2nd edition). Elsevier.\n",
    "\n",
    "`statsmodels` Documentation can be found at https://www.statsmodels.org/dev/index.html.\n",
    "\n",
    "`scikit-learn` Documentation can be found at http://scikit-learn.org/stable/documentation.html."
   ]
  },
  {
   "cell_type": "markdown",
   "metadata": {},
   "source": [
    "## Introduction to Machine Learning"
   ]
  },
  {
   "cell_type": "markdown",
   "metadata": {},
   "source": [
    "## Creating, Testing, Validating, Evaluating and Deploying the Model"
   ]
  },
  {
   "cell_type": "markdown",
   "metadata": {},
   "source": [
    "<figure>\n",
    "    <img src=\"dataScienceProcess.png\" alt=\"This image shows the stages of creating a model from start to finish.\" style=\"width: 100%;\"> (Course Authors, 2018)\n",
    "    <figcaption><em>This image shows the stages of creating a model from start to finish.</em></figcaption>\n",
    "</figure>\n",
    "\n",
    "Throughout this course, you have gained some knowledge on working with Python and its libraries, and you should have an understanding of the analytics methodology which we use to build the right models for the problems we're trying to solve. \n",
    "\n",
    "Now that you are familiar with data preparation methods and forecasting, in this module you will be introduced to Machine Learning. When creating machine learning models, you will be conducting activities in the latter 5 phases of the methodology. Your data set will be used to train your model and test its accuracy. We will also discuss model validation and evaluation, as these are critical steps to complete before you deploy a model for business use. In theory, we would like to use machine learning models to help us predict outcomes so we can make better business decisions. This is why we need to ensure our models are not baiased, or skewed, and they make appropriate assumptions based on the data we have provided. By following the methodology, you will ensure you have not missed any critical steps in building your model."
   ]
  },
  {
   "cell_type": "markdown",
   "metadata": {},
   "source": [
    "Nowadays, machine learning algorithms are ubiqitous. They are literally conquering the industry and  used in numerous places and for various purposes. Here are some examples:   "
   ]
  },
  {
   "cell_type": "markdown",
   "metadata": {},
   "source": [
    "* __medical diagnostics__: from given features like test results, symptoms, treatments and others, determine a diagnosis. \n",
    "\n",
    "* __loan prediction__: algorithm can be developed to decide to give loan or not from analysis of input values like credit scoring, income, applicant's education level and marital status, etc. \n",
    "\n",
    "* __churn prediction__: in this class of problems, we want machine learning to help us define a strategy for how to keep current customers. Changes in usage patterns are learned (analysed).\n",
    "\n",
    "* __prediction of product consumption__: many factors are important: promotions, advertising, socio-demographic, concurrent activity and others. Analysis of all these features allows us to predict product consumption.\n",
    "\n",
    "* __Rank problem__ Online stores use product ranking. When clients can score items, a rank problem is a prediction of the item rank prior to purchase. In this case, client preferences and item rankings are analysed. Netflix uses this type of algorithm.\n",
    "\n",
    "* __Market basket analysis__: it is possible to find what products are purchased together and the information obtained can be used for better shelving and promotion planning.\n",
    "\n",
    "* __Stock price__: prediction of a price of a stock from the company performance measures and economic data.\n",
    "\n",
    "* Identification of the digits in a handwritten ZIP/postal code from a digitized image.\n",
    "\n",
    "* __Risk factors__: in this class of problems, the risk factors of getting disease (breast cancer, prostate cancer) are identified from clinical and demographic variables.  "
   ]
  },
  {
   "cell_type": "markdown",
   "metadata": {},
   "source": [
    "This list is by no means exhaustive, it could be almost endless. Think of other big classes that you may be aware of - visual recognition and natural language processing.  "
   ]
  },
  {
   "cell_type": "markdown",
   "metadata": {},
   "source": [
    "### Definitions of Machine Learning"
   ]
  },
  {
   "cell_type": "markdown",
   "metadata": {},
   "source": [
    "Even though most of us have heard about machine learning and have an idea what machine learning is, it is a bit difficult to give a strict definition of machine learning. The overview we just explored suggests it's about learning from data using an algorithm.\n",
    "Usually we have outcome measurements, either \n",
    "\n",
    "* Quantitative \n",
    "    * i.e., product rank, stock price\n",
    "* Categorical\n",
    "    * i.e., yes or no for loan prediction or risk factors for getting disease \n",
    "\n",
    "We want to _predict_ these outcomes based on a set of _features_ (such as credit scoring, household income, etc. in the loan prediction problem). \n",
    "\n",
    "Also, we should not expect machines to learn in the same way that humans do. For humans, learning implies thinking and purpose. See Chapter 1 of (Witten, 2005) for more discussion. But still some features of machine learning are similar to human learning. For computers, training might be a more appropriate term, but learning is already widely used term.\n",
    "\n",
    "There are two popular definitions of machine learning (Ng, 2018):\n",
    "\n",
    "* Arthur Samuel described machine learning as: \"the field of study that gives computers the ability to learn without being explicitly programmed\". \n",
    "\n",
    "* A more formal and modern definition is provided by Tom Mitchell, \" A computer program is said to __learn__ from the __experience E__ with respect to some class of __tasks T__ and __performance measure P__, if its performance at tasks T, as measured by P, improves with experience E.\"\n",
    "\n",
    "---\n",
    "\n",
    "Let's use the example of playing checkers to illustrate Mitchell's definition:"
   ]
  },
  {
   "cell_type": "markdown",
   "metadata": {},
   "source": [
    "| ***Variable*** | ***Problem Definition*** |\n",
    "| ---: | :--- |\n",
    "| **E** | The experience of playing many games of checkers |\n",
    "| **T** | The task of playing checkers |\n",
    "| **P** | The probability that the program will win the next game |"
   ]
  },
  {
   "cell_type": "markdown",
   "metadata": {},
   "source": [
    "---\n",
    "__Example: Product recommendation__\n",
    "\n",
    "Imagine that you are running an e-commerce website where users can find a product with the product's picture and description. You would like to know if the user will like product or not.\n",
    "The options are the following.\n",
    "\n",
    "1. Allow a customer to use product;\n",
    "\n",
    "2. Hire a customer behaviour specialist who will analyze customer profiles and products in order to find out if customers will like a product or not.\n",
    "\n",
    "The second option is time consuming and expensive, and can be avoided. The first option is actually the easiest option, because there are many customers who have used this or similar products and ranked them. So, prior relevant sources of data are already available. \n",
    "The machine learning problem, then, is to run an analysis of all available examples to find and describe _structural patterns in data_. \n",
    "\n",
    "Of course, one can create a long and complex set of rules of when customer will like the product - these rules can be hard-coded and then constantly updated. This is an old way of doing things. In more recent times, machine learning algorithms are developed to dig patterns from the data. Machine Learning algorithms can automatically learn which features of customer profile and product descriptions are good predictors, and if those features change, it can re-learn. "
   ]
  },
  {
   "cell_type": "markdown",
   "metadata": {},
   "source": [
    "### Machine learning model: Predictor and target"
   ]
  },
  {
   "cell_type": "markdown",
   "metadata": {},
   "source": [
    "Each example we have discussed can be described to have a set of labeled data. Each instance is a pair, that we can denote as: \n",
    "\n",
    "$$\n",
    "\\{x^{(i)}, y^{(i)}\\}\n",
    "$$\n",
    "where $ x^{(i)} $ are **input variables**; also called input **features** or **predictors**, and $ y^{(i)} $ are **output** or **target** variables, that we can learn how to predict.   \n",
    "\n",
    "Usually, we have problems with multiple variables so that $ x^{(i)} $ is a vector or set of values. Actually, all examples above are multi-variable problems. In the loan prediction problem, the predictor variables are credit scoring, income, applicant's education level and marital status. The target is the loan status (approved or not). \n",
    "\n",
    "Sometimes, there might be a single variable problem where there is only one x variable (predictor variable, P) needing to be considered. For example, there might be a simplified problem to determine how house price depends on the size (square footage) of the house. Then, the square footage, $ x^{(i)} $, is used to predict the house price, $ y^{(i)} $. $x^{(i)}$ (the size if the house) is called the __predictor__ variable and $ y^{(i)} $ (the house price) is the __target__. A pair $ ( x^{(i)}, y^{(i)}) $ is called the __training__ example. The list of all available training examples forms a training dataset. Note that the superscript $ (i) $ is used as an index in the training dataset.\n",
    "\n",
    "With such defined variables, the more formal definition of the machine learning problem can be formulated as a *goal* to learn a function, $ y = F(x) $, on a given training dataset. Ultimately, the function, $ F(x) $, will be used to predict the corresponding value, $ y $. So that for a new house of known size on the market, we can predict its price using the $ F(x) $ function. The function $ F(x) $ is also called the **hypothesis** and the goal of machine learning in this case is to find the relationship $ F(x) $ between predictors $ x $ and responses $ y $."
   ]
  },
  {
   "cell_type": "markdown",
   "metadata": {},
   "source": [
    "### Supervised and unsupervised learning \n",
    "\n",
    "Generally, machine learning problems are classified into two broad categories: __supervised__ and __unsupervised__ learning. \n",
    "\n",
    "In __supervised__ learning, the output (target) values are given in the training dataset. Most of the examples considered so far are supervised learning examples: the function $ y = F(x) $ is learned from labeled pairs $ (x^{(i)}, y^{(i)})$. When we are solving stock price value, we have dataset with $ N $ examples of stock prices versus  company performance measures and economic data or we are given a set of pairs:   \n",
    "\n",
    "((company performance measures, economic data), stock price).\n",
    "\n",
    "**Note:** $ x^{(i)} $ is multi-variable, 2-dimensional in this case. \n",
    "The loan prediction is also supervised learning. In this problem, the historical data is available, so that it is known when the loan was approved or for which predictor values (credit scoring, income, applicant's education level and marital status) the loan was approved.\n",
    "\n",
    "This type of learning is called supervised, because the learning process operates as though under supervision, the given examples of outcomes provide what correct output should look like.\n",
    "\n",
    "In __unsupervised__ learning, the problem is approached with little or no idea of what outcome results should look like, data are not labeled, or there is no target variable. The _Unsupervised_ method aims to create groups of data points. Structural patterns in data can be found by grouping or __clustering__ the data. Clustering is based on the relationships among the variables in the data. Data that belongs in the same cluster are *close* to each other, while data that belong to different clusters are in general apart. Identification of the numbers in a handwritten ZIP code is an example of unsupervised learning. The MNIST dataset (https://en.wikipedia.org/wiki/MNIST_database) is a database of handwritten digits and used as training datasets for various image processing systems. The dataset was obtained by scanning thousands of handwritten digits, each scan is characterized by brightness of pixels. The machine learning problem is clustering or grouping of data into 10 groups where each group would correspond to a certain digit. This is unsupervised learning since each scan is not labeled, there is no prior knowledge that certain pattern of the pixel brightness on 2-dimensional area will correspond to a certain digit (0, 1 or any other).\n",
    "\n",
    "Other examples of unsupervised learning algorithms are:   \n",
    "\n",
    "* __Visualization__ algorithms: they produce 2- or 3-dimensional representation from the complex and unlabeled data, their outputs can be easily plotted,\n",
    "* __dimensionality reduction__: algorithms of this type simplify the data without losing too much information;\n",
    "* __anomaly detection__: detecting outliers or observations that are very different form the rest of dataset.\n",
    " For further reading: https://en.wikipedia.org/wiki/Unsupervised_learning#Approaches."
   ]
  },
  {
   "cell_type": "markdown",
   "metadata": {},
   "source": [
    "### Supervised learning: Regression and Classification"
   ]
  },
  {
   "cell_type": "markdown",
   "metadata": {},
   "source": [
    "Unsupervised learning methods will be considered in later courses. In this module, we will continue with supervised learning.\n",
    "\n",
    "You may have noticed that a target value might be numeric (continuous), like house prices, and we are trying to learn a _continuous_ function $ F(x) $ that maps input variables. This category of supervised learning problems is called __regression__.\n",
    "Learning house price as a function of the size of the house, stock price as a function of economic data and company performance measures are examples of regression problems or regressions, for short. \n",
    "\n",
    "Other supervised learning problems are predicting __discrete__ result as an output or categorical response. This type of learning task is called __classification__. Note, that classification is different from clustering. Clustering is an unsupervised learning algorithm where unlabeled data are grouped into clusters by similarity. In classification problems, the output is known in the training dataset and the goal is to learn the predicting function $ F(x) $ to map input variables into __discrete__ categories. In the loan prediction problem the output is loan status *yes* or *no*; \"yes\" can be represented by 1 and \"no\" by 0, or 1 for \"yes\" and -1 for \"no\". \n",
    "\n",
    "In this course, you will cover the most common supervised learning algorithms:"
   ]
  },
  {
   "cell_type": "markdown",
   "metadata": {},
   "source": [
    "* Linear Regression,\n",
    "* Logistic Regression,\n",
    "* k-Nearest Neighbors (kNN),\n",
    "* Support Vector Machines (SVM),\n",
    "* Decision Trees and Random Forests"
   ]
  },
  {
   "cell_type": "markdown",
   "metadata": {},
   "source": [
    "## Linear Regression"
   ]
  },
  {
   "cell_type": "markdown",
   "metadata": {},
   "source": [
    "Linear regression is an algorithm for finding the linear relationship between predictors and responses. It is applicable when the response is a numeric variable. The goal is to model the relationship between a scalar dependent variable y and one or more independent variables x. The objective is to find the **line of best fit**:"
   ]
  },
  {
   "cell_type": "markdown",
   "metadata": {},
   "source": [
    "$$ \n",
    "y = w_0 + \\sum_{i=1}^L w_i x_i\n",
    "$$"
   ]
  },
  {
   "cell_type": "markdown",
   "metadata": {},
   "source": [
    "where"
   ]
  },
  {
   "cell_type": "markdown",
   "metadata": {},
   "source": [
    "* $ x_i $ are features \n",
    "* $ w_i $ are the coefficients or weights of each predictors \n",
    "* w_0 is an intercept or value of response when all x_i equal to 0. "
   ]
  },
  {
   "cell_type": "markdown",
   "metadata": {},
   "source": [
    "Quite often, the formula is written in more compact form, since the intercept $ w_0 $ is coefficient for constant variable equal to one (i.e., $ x_i^0 $), and thus can be rewritten for $ L + 1 $ features, $ (1, x_1,\\dots,x_L) $."
   ]
  },
  {
   "cell_type": "markdown",
   "metadata": {},
   "source": [
    "$$\n",
    "y = \\sum_{i=0}^L w_i x_i\n",
    "$$"
   ]
  },
  {
   "cell_type": "markdown",
   "metadata": {},
   "source": [
    "In the case of one-variable prediction, it takes a simpler form:"
   ]
  },
  {
   "cell_type": "markdown",
   "metadata": {},
   "source": [
    "$$\n",
    "y = w_0 + w_1 x_1\n",
    "$$"
   ]
  },
  {
   "cell_type": "markdown",
   "metadata": {},
   "source": [
    "Let us consider an example of Linear Regression. In Python, there are two big libraries for importing Linear Regression tools. "
   ]
  },
  {
   "cell_type": "markdown",
   "metadata": {},
   "source": [
    "* `statsmodels` \n",
    "* Scikit-learn (`sklearn`)"
   ]
  },
  {
   "cell_type": "markdown",
   "metadata": {},
   "source": [
    "First, we will use `statsmodels`. The dataset is copied form Connor Johnson blog (http://connor-johnson.com/2014/02/18/linear-regression-with-python/) and is analyzed to find a correlation between tobacco and alcohol purchases in different regions of the United Kingdom.\n",
    "\n",
    "**NOTE:** The data used in this article can be found on [DASL website](https://dasl.datadescription.com/datafile/tobacco-and-alcohol/?_sf_s=Alcohol+Tobacco&_sfm_cases=4+59943), The **Data And Story** Library. "
   ]
  },
  {
   "cell_type": "code",
   "execution_count": 1,
   "metadata": {},
   "outputs": [],
   "source": [
    "import numpy as np\n",
    "import pandas\n",
    "#import pandas as pd\n",
    "from pandas import DataFrame, Series\n",
    "import statsmodels.formula.api as smf\n",
    "import statsmodels.api as sm\n",
    "from sklearn.linear_model import LinearRegression\n",
    "import scipy, scipy.stats\n",
    "import matplotlib.pyplot as plt\n",
    "%matplotlib inline"
   ]
  },
  {
   "cell_type": "code",
   "execution_count": 2,
   "metadata": {},
   "outputs": [],
   "source": [
    "'''\n",
    "The data is given as a multi-line string \n",
    "and describes alcohol and tobacco consumption in UK regions.\n",
    "'''\n",
    "\n",
    "data_str = '''Region\\tAlcohol\\tTobacco\n",
    "North\\t6.47\\t4.03\n",
    "Yorkshire\\t6.13\\t3.76\n",
    "Northeast\\t6.19\\t3.77\n",
    "East Midlands\\t4.89\\t3.34\n",
    "West Midlands\\t5.63\\t3.47\n",
    "East Anglia\\t4.52\\t2.92\n",
    "Southeast\\t5.89\\t3.20\n",
    "Southwest\\t4.79\\t2.71\n",
    "Wales\\t5.27\\t3.53\n",
    "Scotland\\t6.08\\t4.51\n",
    "Northern Ireland\\t4.02\\t4.56'''"
   ]
  },
  {
   "cell_type": "code",
   "execution_count": 3,
   "metadata": {},
   "outputs": [
    {
     "data": {
      "text/plain": [
       "[['Region', 'Alcohol', 'Tobacco'],\n",
       " ['North', '6.47', '4.03'],\n",
       " ['Yorkshire', '6.13', '3.76'],\n",
       " ['Northeast', '6.19', '3.77'],\n",
       " ['East Midlands', '4.89', '3.34'],\n",
       " ['West Midlands', '5.63', '3.47'],\n",
       " ['East Anglia', '4.52', '2.92'],\n",
       " ['Southeast', '5.89', '3.20'],\n",
       " ['Southwest', '4.79', '2.71'],\n",
       " ['Wales', '5.27', '3.53'],\n",
       " ['Scotland', '6.08', '4.51'],\n",
       " ['Northern Ireland', '4.02', '4.56']]"
      ]
     },
     "execution_count": 3,
     "metadata": {},
     "output_type": "execute_result"
    }
   ],
   "source": [
    "'''\n",
    "In order to prepare the data for Pandas DataFrame,\n",
    "we will split data into list of lists.\n",
    "'''\n",
    "\n",
    "#First we will make list of rows\n",
    "d = data_str.split('\\n')\n",
    "\n",
    "#Next, each row can be split by 'tab' into list\n",
    "d = [ i.split('\\t') for i in d ]\n",
    "\n",
    "d"
   ]
  },
  {
   "cell_type": "code",
   "execution_count": 4,
   "metadata": {},
   "outputs": [],
   "source": [
    "'''\n",
    "This list of lists is ready for upload in DataFrame.\n",
    "But before that we change the type of numerical strings to float.\n",
    "'''\n",
    "\n",
    "for i in range( len( d ) ):\n",
    "    for j in range( len( d[0] ) ):\n",
    "        try:\n",
    "            d[i][j] = float( d[i][j] )\n",
    "        except:\n",
    "            pass"
   ]
  },
  {
   "cell_type": "code",
   "execution_count": 5,
   "metadata": {},
   "outputs": [],
   "source": [
    "'''And finally'''\n",
    "\n",
    "df = DataFrame( d[1:], columns=d[0] )"
   ]
  },
  {
   "cell_type": "code",
   "execution_count": 6,
   "metadata": {},
   "outputs": [
    {
     "data": {
      "text/html": [
       "<div>\n",
       "<style scoped>\n",
       "    .dataframe tbody tr th:only-of-type {\n",
       "        vertical-align: middle;\n",
       "    }\n",
       "\n",
       "    .dataframe tbody tr th {\n",
       "        vertical-align: top;\n",
       "    }\n",
       "\n",
       "    .dataframe thead th {\n",
       "        text-align: right;\n",
       "    }\n",
       "</style>\n",
       "<table border=\"1\" class=\"dataframe\">\n",
       "  <thead>\n",
       "    <tr style=\"text-align: right;\">\n",
       "      <th></th>\n",
       "      <th>Region</th>\n",
       "      <th>Alcohol</th>\n",
       "      <th>Tobacco</th>\n",
       "    </tr>\n",
       "  </thead>\n",
       "  <tbody>\n",
       "    <tr>\n",
       "      <th>0</th>\n",
       "      <td>North</td>\n",
       "      <td>6.47</td>\n",
       "      <td>4.03</td>\n",
       "    </tr>\n",
       "    <tr>\n",
       "      <th>1</th>\n",
       "      <td>Yorkshire</td>\n",
       "      <td>6.13</td>\n",
       "      <td>3.76</td>\n",
       "    </tr>\n",
       "    <tr>\n",
       "      <th>2</th>\n",
       "      <td>Northeast</td>\n",
       "      <td>6.19</td>\n",
       "      <td>3.77</td>\n",
       "    </tr>\n",
       "    <tr>\n",
       "      <th>3</th>\n",
       "      <td>East Midlands</td>\n",
       "      <td>4.89</td>\n",
       "      <td>3.34</td>\n",
       "    </tr>\n",
       "    <tr>\n",
       "      <th>4</th>\n",
       "      <td>West Midlands</td>\n",
       "      <td>5.63</td>\n",
       "      <td>3.47</td>\n",
       "    </tr>\n",
       "    <tr>\n",
       "      <th>5</th>\n",
       "      <td>East Anglia</td>\n",
       "      <td>4.52</td>\n",
       "      <td>2.92</td>\n",
       "    </tr>\n",
       "    <tr>\n",
       "      <th>6</th>\n",
       "      <td>Southeast</td>\n",
       "      <td>5.89</td>\n",
       "      <td>3.20</td>\n",
       "    </tr>\n",
       "    <tr>\n",
       "      <th>7</th>\n",
       "      <td>Southwest</td>\n",
       "      <td>4.79</td>\n",
       "      <td>2.71</td>\n",
       "    </tr>\n",
       "    <tr>\n",
       "      <th>8</th>\n",
       "      <td>Wales</td>\n",
       "      <td>5.27</td>\n",
       "      <td>3.53</td>\n",
       "    </tr>\n",
       "    <tr>\n",
       "      <th>9</th>\n",
       "      <td>Scotland</td>\n",
       "      <td>6.08</td>\n",
       "      <td>4.51</td>\n",
       "    </tr>\n",
       "    <tr>\n",
       "      <th>10</th>\n",
       "      <td>Northern Ireland</td>\n",
       "      <td>4.02</td>\n",
       "      <td>4.56</td>\n",
       "    </tr>\n",
       "  </tbody>\n",
       "</table>\n",
       "</div>"
      ],
      "text/plain": [
       "              Region  Alcohol  Tobacco\n",
       "0              North     6.47     4.03\n",
       "1          Yorkshire     6.13     3.76\n",
       "2          Northeast     6.19     3.77\n",
       "3      East Midlands     4.89     3.34\n",
       "4      West Midlands     5.63     3.47\n",
       "5        East Anglia     4.52     2.92\n",
       "6          Southeast     5.89     3.20\n",
       "7          Southwest     4.79     2.71\n",
       "8              Wales     5.27     3.53\n",
       "9           Scotland     6.08     4.51\n",
       "10  Northern Ireland     4.02     4.56"
      ]
     },
     "execution_count": 6,
     "metadata": {},
     "output_type": "execute_result"
    }
   ],
   "source": [
    "df"
   ]
  },
  {
   "cell_type": "code",
   "execution_count": 7,
   "metadata": {},
   "outputs": [
    {
     "data": {
      "image/png": "[encoded data removed]",
      "text/plain": [
       "<Figure size 432x288 with 1 Axes>"
      ]
     },
     "metadata": {
      "needs_background": "light"
     },
     "output_type": "display_data"
    }
   ],
   "source": [
    "plt.scatter( df.Tobacco, df.Alcohol,\n",
    "         marker='o',\n",
    "         edgecolor='b',\n",
    "         facecolor='none',\n",
    "         alpha=0.5 )\n",
    "plt.xlabel('Tobacco')\n",
    "plt.ylabel('Alcohol')\n",
    "None"
   ]
  },
  {
   "cell_type": "markdown",
   "metadata": {},
   "source": [
    "This scatter plot shows that one observation falls far from the rest of data or \"cloud\" of points. Such points are called __outliers__; they can have a strong influence on the regression line.    \n",
    "First, linear regression will be run without outliers. Since it happened to be the last row in the `Dataframe` it is very easy to exclude."
   ]
  },
  {
   "cell_type": "code",
   "execution_count": 8,
   "metadata": {},
   "outputs": [],
   "source": [
    "# For the intercept coefficient, we add new column of 1\n",
    "df['Eins'] = np.ones((len(df), ))\n",
    "\n",
    "# Define X and Y variables for the regression.\n",
    "Y = df.Alcohol[:-1]\n",
    "X = df[['Tobacco','Eins']][:-1]"
   ]
  },
  {
   "cell_type": "code",
   "execution_count": 9,
   "metadata": {},
   "outputs": [],
   "source": [
    "'''\n",
    "This will run the fit, here we are going to use the Ordinary Least Squares (OLS) algorithm\n",
    "'''\n",
    "\n",
    "# This will create an instance of Linear Regression\n",
    "result_no_outlier = sm.OLS( Y, X ).fit()"
   ]
  },
  {
   "cell_type": "code",
   "execution_count": 10,
   "metadata": {},
   "outputs": [
    {
     "name": "stderr",
     "output_type": "stream",
     "text": [
      "/Users/irina/anaconda/lib/python3.6/site-packages/scipy/stats/stats.py:1394: UserWarning: kurtosistest only valid for n>=20 ... continuing anyway, n=10\n",
      "  \"anyway, n=%i\" % int(n))\n"
     ]
    },
    {
     "data": {
      "text/html": [
       "<table class=\"simpletable\">\n",
       "<caption>OLS Regression Results</caption>\n",
       "<tr>\n",
       "  <th>Dep. Variable:</th>         <td>Alcohol</td>     <th>  R-squared:         </th> <td>   0.615</td>\n",
       "</tr>\n",
       "<tr>\n",
       "  <th>Model:</th>                   <td>OLS</td>       <th>  Adj. R-squared:    </th> <td>   0.567</td>\n",
       "</tr>\n",
       "<tr>\n",
       "  <th>Method:</th>             <td>Least Squares</td>  <th>  F-statistic:       </th> <td>   12.78</td>\n",
       "</tr>\n",
       "<tr>\n",
       "  <th>Date:</th>             <td>Thu, 16 Jan 2020</td> <th>  Prob (F-statistic):</th>  <td>0.00723</td>\n",
       "</tr>\n",
       "<tr>\n",
       "  <th>Time:</th>                 <td>01:40:41</td>     <th>  Log-Likelihood:    </th> <td> -4.9998</td>\n",
       "</tr>\n",
       "<tr>\n",
       "  <th>No. Observations:</th>      <td>    10</td>      <th>  AIC:               </th> <td>   14.00</td>\n",
       "</tr>\n",
       "<tr>\n",
       "  <th>Df Residuals:</th>          <td>     8</td>      <th>  BIC:               </th> <td>   14.60</td>\n",
       "</tr>\n",
       "<tr>\n",
       "  <th>Df Model:</th>              <td>     1</td>      <th>                     </th>     <td> </td>   \n",
       "</tr>\n",
       "<tr>\n",
       "  <th>Covariance Type:</th>      <td>nonrobust</td>    <th>                     </th>     <td> </td>   \n",
       "</tr>\n",
       "</table>\n",
       "<table class=\"simpletable\">\n",
       "<tr>\n",
       "     <td></td>        <th>coef</th>     <th>std err</th>      <th>t</th>      <th>P>|t|</th>  <th>[0.025</th>    <th>0.975]</th>  \n",
       "</tr>\n",
       "<tr>\n",
       "  <th>Tobacco</th> <td>    1.0059</td> <td>    0.281</td> <td>    3.576</td> <td> 0.007</td> <td>    0.357</td> <td>    1.655</td>\n",
       "</tr>\n",
       "<tr>\n",
       "  <th>Eins</th>    <td>    2.0412</td> <td>    1.001</td> <td>    2.038</td> <td> 0.076</td> <td>   -0.268</td> <td>    4.350</td>\n",
       "</tr>\n",
       "</table>\n",
       "<table class=\"simpletable\">\n",
       "<tr>\n",
       "  <th>Omnibus:</th>       <td> 2.542</td> <th>  Durbin-Watson:     </th> <td>   1.975</td>\n",
       "</tr>\n",
       "<tr>\n",
       "  <th>Prob(Omnibus):</th> <td> 0.281</td> <th>  Jarque-Bera (JB):  </th> <td>   0.904</td>\n",
       "</tr>\n",
       "<tr>\n",
       "  <th>Skew:</th>          <td>-0.014</td> <th>  Prob(JB):          </th> <td>   0.636</td>\n",
       "</tr>\n",
       "<tr>\n",
       "  <th>Kurtosis:</th>      <td> 1.527</td> <th>  Cond. No.          </th> <td>    27.2</td>\n",
       "</tr>\n",
       "</table><br/><br/>Warnings:<br/>[1] Standard Errors assume that the covariance matrix of the errors is correctly specified."
      ],
      "text/plain": [
       "<class 'statsmodels.iolib.summary.Summary'>\n",
       "\"\"\"\n",
       "                            OLS Regression Results                            \n",
       "==============================================================================\n",
       "Dep. Variable:                Alcohol   R-squared:                       0.615\n",
       "Model:                            OLS   Adj. R-squared:                  0.567\n",
       "Method:                 Least Squares   F-statistic:                     12.78\n",
       "Date:                Thu, 16 Jan 2020   Prob (F-statistic):            0.00723\n",
       "Time:                        01:40:41   Log-Likelihood:                -4.9998\n",
       "No. Observations:                  10   AIC:                             14.00\n",
       "Df Residuals:                       8   BIC:                             14.60\n",
       "Df Model:                           1                                         \n",
       "Covariance Type:            nonrobust                                         \n",
       "==============================================================================\n",
       "                 coef    std err          t      P>|t|      [0.025      0.975]\n",
       "------------------------------------------------------------------------------\n",
       "Tobacco        1.0059      0.281      3.576      0.007       0.357       1.655\n",
       "Eins           2.0412      1.001      2.038      0.076      -0.268       4.350\n",
       "==============================================================================\n",
       "Omnibus:                        2.542   Durbin-Watson:                   1.975\n",
       "Prob(Omnibus):                  0.281   Jarque-Bera (JB):                0.904\n",
       "Skew:                          -0.014   Prob(JB):                        0.636\n",
       "Kurtosis:                       1.527   Cond. No.                         27.2\n",
       "==============================================================================\n",
       "\n",
       "Warnings:\n",
       "[1] Standard Errors assume that the covariance matrix of the errors is correctly specified.\n",
       "\"\"\""
      ]
     },
     "execution_count": 10,
     "metadata": {},
     "output_type": "execute_result"
    }
   ],
   "source": [
    "# To get the summary of the regression\n",
    "result_no_outlier.summary()"
   ]
  },
  {
   "cell_type": "markdown",
   "metadata": {},
   "source": [
    "### Interpreting Regression Results"
   ]
  },
  {
   "cell_type": "markdown",
   "metadata": {},
   "source": [
    "We will take a closer look at some of the statistical output we just generated.\n",
    "\n",
    "The method `summary()` gives a full statistical evaluation of the regression. You will cover these parameters in detail in the next course. For now, we will focus on the second block of summary output, which contains:\n",
    "\n",
    "* the (`R-squared`) value articulates what percentage of the variability in Y is explained by the model. This value will always be between 0 and 1; if R-squared = 1, then the model perfectly explains variability in Y, while if R-squared = 0, there is no linear relationship.\n",
    "\n",
    "* the standard errors (`std err`). This is the standard error of the coefficients. \n",
    "\n",
    "* `p-values`, column `P > |t|`. The meaning of parameters in this column refers to probability and will be explained in details in the next course. Just note that to compute probability, it is assumed that the coefficient is 0 (there is no dependence). In other words, we assumed the coefficient is zero and under this assumption the probability to find the fitted value is `P>|t|`. The small value of `P` means that assumption about the coefficient being zero is not reasonable and should be discarded. Attributes with the `p-value` (column `p>|t|`) greater than 0.05 are not significant for this model. Attributes with values between 0 and 0.05 are statistically significant predictors of the response. In the given example, `P>|t|` for the Tobacco is 0.007, it has value much smaller than 0.05 and we accept the fit of the regression line. \n",
    "\n",
    "* 95% confidence interval. The two last columns (`[0.025 0.975]`) give the confidence interval, that is, with 95% confidence the coefficient is between these limits.  \n",
    "\n",
    "* the coefficients (`coef`) for 'Tobacco' and 'Eins' features. The coefficient for 'Eins' is an intercept of the line.\n",
    "\n",
    "We can get the coefficients from the `params` attribute. Since they tell us the slope and the intercept, this will allow us to plot the 'line of best fit'. The formula for a line is notated by $ y = mx+b $, with $m$ representing the slope of the line (in this case, the coefficient for Tobacco), and $b$ representing the intercept (the coefficient for Eins). This line will help us determine the nature of the relationship between the two variables. "
   ]
  },
  {
   "cell_type": "code",
   "execution_count": 11,
   "metadata": {},
   "outputs": [
    {
     "data": {
      "text/plain": [
       "Tobacco    1.005896\n",
       "Eins       2.041223\n",
       "dtype: float64"
      ]
     },
     "execution_count": 11,
     "metadata": {},
     "output_type": "execute_result"
    }
   ],
   "source": [
    "result_no_outlier.params"
   ]
  },
  {
   "cell_type": "code",
   "execution_count": 12,
   "metadata": {},
   "outputs": [],
   "source": [
    "'''Let's assign these parameters to variables slope and intercept.'''\n",
    "\n",
    "slope, intercept = result_no_outlier.params"
   ]
  },
  {
   "cell_type": "code",
   "execution_count": 13,
   "metadata": {},
   "outputs": [
    {
     "data": {
      "image/png": "[encoded data removed]",
      "text/plain": [
       "<Figure size 432x288 with 1 Axes>"
      ]
     },
     "metadata": {
      "needs_background": "light"
     },
     "output_type": "display_data"
    }
   ],
   "source": [
    "'''Let's plot the line over the scatter plot'''\n",
    "\n",
    "plt.scatter( df.Tobacco[:-1], df.Alcohol[:-1],\n",
    "         marker='o', facecolors='none', edgecolors='b',\n",
    "         label='All other regions')\n",
    " \n",
    "plt.scatter( df.Tobacco[-1:], df.Alcohol[-1:],\n",
    "         marker='x', color='r',\n",
    "         label='N. Ireland, outlier')\n",
    " \n",
    "plt.plot( df.Tobacco, intercept + slope*df.Tobacco, 'k' )\n",
    "plt.xlabel('Tobacco') ; \n",
    "plt.axis([2.5,4.75,2.75,7.0])\n",
    "plt.ylabel('Alcohol')\n",
    "plt.title('Regression of Alcohol from Tobacco') ;\n",
    "plt.grid() ;\n",
    "plt.legend(loc='lower center')\n",
    "plt.show()"
   ]
  },
  {
   "cell_type": "markdown",
   "metadata": {},
   "source": [
    "### Evaluating the Regression Model"
   ]
  },
  {
   "cell_type": "markdown",
   "metadata": {},
   "source": [
    "As can be seen from the plot, the line fits the observation reasonably well. But how did the chosen algorithm perform this fit, and how were parameters like slope and intercept calculated? The performance measure should be selected for a machine learning algorithm. A typical performance measure for regression algorithm is the **Mean Square Error (MSE)**.\n",
    "\n",
    "For each observation the __residual__, which is the difference between predicted value $ f(x_i) $ and the response $ y_i $, is calculated. Mean Square Error, also known as the __cost function__, is an average of the squared residuals."
   ]
  },
  {
   "cell_type": "markdown",
   "metadata": {},
   "source": [
    "$$\n",
    "MSE = \\frac{1}{N} \\sum_{i=1}^N (f(x_i) - y_i)^2\n",
    "$$"
   ]
  },
  {
   "cell_type": "markdown",
   "metadata": {},
   "source": [
    "where $ N $ is the number of observations in the dataset.\n",
    "\n",
    "Linear regression models are often fitted by minimizing MSE. This is the known as the **least squares** approach. We used this approach in the example above when method `OLS` from the `statsmodels` library was called.\n",
    "\n",
    "Another useful metric is absolute error. In a similar fashion, the **Mean Absolute Error (MAE)** is defined as an average of absolute values of the residuals."
   ]
  },
  {
   "cell_type": "markdown",
   "metadata": {},
   "source": [
    "$$\n",
    "MAE = \\frac{1}{N} \\sum_{i=1}^N |f(x_i) - y_i|\n",
    "$$"
   ]
  },
  {
   "cell_type": "markdown",
   "metadata": {},
   "source": [
    "In fact, for the linear regression models the squared errors is the most preferred performance measure. It gives higher weight for large errors, but more importantly, as a quadratic function this measure is suitable for the minimization. "
   ]
  },
  {
   "cell_type": "markdown",
   "metadata": {},
   "source": [
    "### Gradient Descent\n",
    "\n",
    "Generally, a function that defines how good the model describes the data is called the __cost function__. For linear regression problems, the cost function measures the distance between the linear model's predictions and the training instances.\n",
    "\n",
    "The mean square error (MSE) and mean absolute error (MAE) are examples of a cost function. \n",
    "\n",
    "To find the best fit, the *cost function* must be *minimized*. In other words, one needs to find coefficient values, $ w_i $, that would minimize the cost function. \n",
    "\n",
    "The **gradient descent** algorithms provide methods that can be used to calculate coefficients for minimizing the cost function.    \n",
    "\n",
    "In gradient descent, coefficients, $ w_i $, are changed iteratively by small step values in order to minimize the cost function. At each iteration, the derivative of the cost function is calculated to find the direction of the next step in order to \"descend\" to the minimum. This gives the name to the method.\n",
    "\n",
    "There are two main versions of the Gradient Descent methods: "
   ]
  },
  {
   "cell_type": "markdown",
   "metadata": {},
   "source": [
    "* Batch Gradient Descent\n",
    "* Stochastic Gradient Descent"
   ]
  },
  {
   "cell_type": "markdown",
   "metadata": {},
   "source": [
    "For **Batch Gradient Descent**, at each iteration, the sum of residuals over all observations is calculated.    \n",
    "For large datasets it might be very slow. \n",
    "\n",
    "For  **Stochastic Gradient Descent (SGD)**, at each iteration, only one residual is calculated for a randomly sampled observations from the dataset. This makes the SGD algorithm much faster and suitable for very large datasets."
   ]
  },
  {
   "cell_type": "markdown",
   "metadata": {},
   "source": [
    "### Outliers and leverage\n",
    "\n",
    "Let's get back to our example and run another fit, this time including the outlier."
   ]
  },
  {
   "cell_type": "code",
   "execution_count": 14,
   "metadata": {},
   "outputs": [],
   "source": [
    "X_o = df[['Tobacco','Eins']]\n",
    "Y_o = df.Alcohol\n",
    "\n",
    "result_with_outlier = sm.OLS( Y_o, X_o ).fit()"
   ]
  },
  {
   "cell_type": "code",
   "execution_count": 15,
   "metadata": {},
   "outputs": [
    {
     "name": "stderr",
     "output_type": "stream",
     "text": [
      "/Users/irina/anaconda/lib/python3.6/site-packages/scipy/stats/stats.py:1394: UserWarning: kurtosistest only valid for n>=20 ... continuing anyway, n=11\n",
      "  \"anyway, n=%i\" % int(n))\n"
     ]
    },
    {
     "data": {
      "text/html": [
       "<table class=\"simpletable\">\n",
       "<caption>OLS Regression Results</caption>\n",
       "<tr>\n",
       "  <th>Dep. Variable:</th>         <td>Alcohol</td>     <th>  R-squared:         </th> <td>   0.050</td>\n",
       "</tr>\n",
       "<tr>\n",
       "  <th>Model:</th>                   <td>OLS</td>       <th>  Adj. R-squared:    </th> <td>  -0.056</td>\n",
       "</tr>\n",
       "<tr>\n",
       "  <th>Method:</th>             <td>Least Squares</td>  <th>  F-statistic:       </th> <td>  0.4735</td>\n",
       "</tr>\n",
       "<tr>\n",
       "  <th>Date:</th>             <td>Thu, 16 Jan 2020</td> <th>  Prob (F-statistic):</th>  <td> 0.509</td> \n",
       "</tr>\n",
       "<tr>\n",
       "  <th>Time:</th>                 <td>01:41:07</td>     <th>  Log-Likelihood:    </th> <td> -12.317</td>\n",
       "</tr>\n",
       "<tr>\n",
       "  <th>No. Observations:</th>      <td>    11</td>      <th>  AIC:               </th> <td>   28.63</td>\n",
       "</tr>\n",
       "<tr>\n",
       "  <th>Df Residuals:</th>          <td>     9</td>      <th>  BIC:               </th> <td>   29.43</td>\n",
       "</tr>\n",
       "<tr>\n",
       "  <th>Df Model:</th>              <td>     1</td>      <th>                     </th>     <td> </td>   \n",
       "</tr>\n",
       "<tr>\n",
       "  <th>Covariance Type:</th>      <td>nonrobust</td>    <th>                     </th>     <td> </td>   \n",
       "</tr>\n",
       "</table>\n",
       "<table class=\"simpletable\">\n",
       "<tr>\n",
       "     <td></td>        <th>coef</th>     <th>std err</th>      <th>t</th>      <th>P>|t|</th>  <th>[0.025</th>    <th>0.975]</th>  \n",
       "</tr>\n",
       "<tr>\n",
       "  <th>Tobacco</th> <td>    0.3019</td> <td>    0.439</td> <td>    0.688</td> <td> 0.509</td> <td>   -0.691</td> <td>    1.295</td>\n",
       "</tr>\n",
       "<tr>\n",
       "  <th>Eins</th>    <td>    4.3512</td> <td>    1.607</td> <td>    2.708</td> <td> 0.024</td> <td>    0.717</td> <td>    7.986</td>\n",
       "</tr>\n",
       "</table>\n",
       "<table class=\"simpletable\">\n",
       "<tr>\n",
       "  <th>Omnibus:</th>       <td> 3.123</td> <th>  Durbin-Watson:     </th> <td>   1.655</td>\n",
       "</tr>\n",
       "<tr>\n",
       "  <th>Prob(Omnibus):</th> <td> 0.210</td> <th>  Jarque-Bera (JB):  </th> <td>   1.397</td>\n",
       "</tr>\n",
       "<tr>\n",
       "  <th>Skew:</th>          <td>-0.873</td> <th>  Prob(JB):          </th> <td>   0.497</td>\n",
       "</tr>\n",
       "<tr>\n",
       "  <th>Kurtosis:</th>      <td> 3.022</td> <th>  Cond. No.          </th> <td>    25.5</td>\n",
       "</tr>\n",
       "</table><br/><br/>Warnings:<br/>[1] Standard Errors assume that the covariance matrix of the errors is correctly specified."
      ],
      "text/plain": [
       "<class 'statsmodels.iolib.summary.Summary'>\n",
       "\"\"\"\n",
       "                            OLS Regression Results                            \n",
       "==============================================================================\n",
       "Dep. Variable:                Alcohol   R-squared:                       0.050\n",
       "Model:                            OLS   Adj. R-squared:                 -0.056\n",
       "Method:                 Least Squares   F-statistic:                    0.4735\n",
       "Date:                Thu, 16 Jan 2020   Prob (F-statistic):              0.509\n",
       "Time:                        01:41:07   Log-Likelihood:                -12.317\n",
       "No. Observations:                  11   AIC:                             28.63\n",
       "Df Residuals:                       9   BIC:                             29.43\n",
       "Df Model:                           1                                         \n",
       "Covariance Type:            nonrobust                                         \n",
       "==============================================================================\n",
       "                 coef    std err          t      P>|t|      [0.025      0.975]\n",
       "------------------------------------------------------------------------------\n",
       "Tobacco        0.3019      0.439      0.688      0.509      -0.691       1.295\n",
       "Eins           4.3512      1.607      2.708      0.024       0.717       7.986\n",
       "==============================================================================\n",
       "Omnibus:                        3.123   Durbin-Watson:                   1.655\n",
       "Prob(Omnibus):                  0.210   Jarque-Bera (JB):                1.397\n",
       "Skew:                          -0.873   Prob(JB):                        0.497\n",
       "Kurtosis:                       3.022   Cond. No.                         25.5\n",
       "==============================================================================\n",
       "\n",
       "Warnings:\n",
       "[1] Standard Errors assume that the covariance matrix of the errors is correctly specified.\n",
       "\"\"\""
      ]
     },
     "execution_count": 15,
     "metadata": {},
     "output_type": "execute_result"
    }
   ],
   "source": [
    "result_with_outlier.summary()"
   ]
  },
  {
   "cell_type": "code",
   "execution_count": 16,
   "metadata": {},
   "outputs": [],
   "source": [
    "slope_o, intercept_o = result_with_outlier.params"
   ]
  },
  {
   "cell_type": "code",
   "execution_count": 17,
   "metadata": {},
   "outputs": [
    {
     "data": {
      "image/png": "[encoded data removed]",
      "text/plain": [
       "<Figure size 432x288 with 1 Axes>"
      ]
     },
     "metadata": {
      "needs_background": "light"
     },
     "output_type": "display_data"
    }
   ],
   "source": [
    "'''Let's compare the results of the two fits'''\n",
    "\n",
    "plt.scatter( df.Tobacco[:-1], df.Alcohol[:-1],\n",
    "         marker='o', facecolors='none', edgecolors='b',\n",
    "         label='All other regions')\n",
    " \n",
    "plt.scatter( df.Tobacco[-1:], df.Alcohol[-1:],\n",
    "         marker='x', color='r',\n",
    "         label='N. Ireland, outlier')\n",
    " \n",
    "plt.plot( df.Tobacco, intercept + slope*df.Tobacco, 'k', label='Fitted without outlier' )\n",
    "plt.plot( df.Tobacco, intercept_o + slope_o * df.Tobacco , 'r-', label='Fitted with outlier')\n",
    "plt.xlabel('Tobacco') ; \n",
    "plt.axis([2.5,4.75,2.75,7.0])\n",
    "plt.ylabel('Alcohol')\n",
    "plt.title('Regression of Alcohol from Tobacco') ;\n",
    "plt.grid() ;\n",
    "plt.legend(loc='lower center')\n",
    "plt.show()"
   ]
  },
  {
   "cell_type": "markdown",
   "metadata": {},
   "source": [
    "In this example, the influence of the outlier is rather significant. It appears that an outlier point has high influence on the slope of the line. Points like these are called an __influential points__; we can say that these points \"pull on the line\" and are points with __high leverage__.    \n",
    "\n",
    "__NOTE:__ It might seem that removing outliers will help us getting better prediction models and it is tempting to discard outliers as insignificant. But outliers must not be removed without thorough analysis.\n",
    "For example, in the analysis of financial data, ignoring the largest market changes - the outliers - may be very costly for the company."
   ]
  },
  {
   "cell_type": "markdown",
   "metadata": {},
   "source": [
    "### Linear regression with scikit-learn\n",
    "\n",
    "Scikit-learn (`sklearn`) is the Python machine learning library. In this section we will use Linear Regression from `sklearn`. Let us see how linear regression can be used. \n",
    "\n",
    "The dataset used here can be downloaded from [Kaggle] (https://www.kaggle.com/c/bike-sharing-demand). Save the dataset to your machine in the same folder as this notebook with the name 'bikes_sharing.csv'. Alternatively, update the code below to reflect the name and location of the dataset.\n",
    "\n",
    "The dataset was generated by a bicycle sharing system in the Capital Bikeshare program in Washington, D.C.  These systems allow people to rent a bike from one location and return it to a different location on an as-needed basis. The process of membership, rental, and bike return is automated via a network of kiosks located throughout a city. The dataset contains information such as the duration of travel, departure location, arrival location, the time elapsed, etc."
   ]
  },
  {
   "cell_type": "code",
   "execution_count": 18,
   "metadata": {},
   "outputs": [
    {
     "name": "stdout",
     "output_type": "stream",
     "text": [
      "Populating the interactive namespace from numpy and matplotlib\n"
     ]
    }
   ],
   "source": [
    "import sklearn\n",
    "\n",
    "'''We will also use numpy for calculations \n",
    "and Pandas for dataset manupulations'''\n",
    "\n",
    "import numpy as np\n",
    "import pandas as pd\n",
    "\n",
    "%pylab inline"
   ]
  },
  {
   "cell_type": "code",
   "execution_count": 19,
   "metadata": {},
   "outputs": [],
   "source": [
    "'''Let's read data into Pandas dataframe'''\n",
    "bike_sharing = pd.read_csv('bikes_sharing.csv', header = 0, sep = ',')"
   ]
  },
  {
   "cell_type": "code",
   "execution_count": 20,
   "metadata": {},
   "outputs": [
    {
     "data": {
      "text/html": [
       "<div>\n",
       "<style scoped>\n",
       "    .dataframe tbody tr th:only-of-type {\n",
       "        vertical-align: middle;\n",
       "    }\n",
       "\n",
       "    .dataframe tbody tr th {\n",
       "        vertical-align: top;\n",
       "    }\n",
       "\n",
       "    .dataframe thead th {\n",
       "        text-align: right;\n",
       "    }\n",
       "</style>\n",
       "<table border=\"1\" class=\"dataframe\">\n",
       "  <thead>\n",
       "    <tr style=\"text-align: right;\">\n",
       "      <th></th>\n",
       "      <th>datetime</th>\n",
       "      <th>season</th>\n",
       "      <th>holiday</th>\n",
       "      <th>workingday</th>\n",
       "      <th>weather</th>\n",
       "      <th>temp</th>\n",
       "      <th>atemp</th>\n",
       "      <th>humidity</th>\n",
       "      <th>windspeed</th>\n",
       "      <th>casual</th>\n",
       "      <th>registered</th>\n",
       "      <th>count</th>\n",
       "    </tr>\n",
       "  </thead>\n",
       "  <tbody>\n",
       "    <tr>\n",
       "      <th>0</th>\n",
       "      <td>2011-01-01 00:00:00</td>\n",
       "      <td>1</td>\n",
       "      <td>0</td>\n",
       "      <td>0</td>\n",
       "      <td>1</td>\n",
       "      <td>9.84</td>\n",
       "      <td>14.395</td>\n",
       "      <td>81</td>\n",
       "      <td>0.0</td>\n",
       "      <td>3</td>\n",
       "      <td>13</td>\n",
       "      <td>16</td>\n",
       "    </tr>\n",
       "    <tr>\n",
       "      <th>1</th>\n",
       "      <td>2011-01-01 01:00:00</td>\n",
       "      <td>1</td>\n",
       "      <td>0</td>\n",
       "      <td>0</td>\n",
       "      <td>1</td>\n",
       "      <td>9.02</td>\n",
       "      <td>13.635</td>\n",
       "      <td>80</td>\n",
       "      <td>0.0</td>\n",
       "      <td>8</td>\n",
       "      <td>32</td>\n",
       "      <td>40</td>\n",
       "    </tr>\n",
       "    <tr>\n",
       "      <th>2</th>\n",
       "      <td>2011-01-01 02:00:00</td>\n",
       "      <td>1</td>\n",
       "      <td>0</td>\n",
       "      <td>0</td>\n",
       "      <td>1</td>\n",
       "      <td>9.02</td>\n",
       "      <td>13.635</td>\n",
       "      <td>80</td>\n",
       "      <td>0.0</td>\n",
       "      <td>5</td>\n",
       "      <td>27</td>\n",
       "      <td>32</td>\n",
       "    </tr>\n",
       "    <tr>\n",
       "      <th>3</th>\n",
       "      <td>2011-01-01 03:00:00</td>\n",
       "      <td>1</td>\n",
       "      <td>0</td>\n",
       "      <td>0</td>\n",
       "      <td>1</td>\n",
       "      <td>9.84</td>\n",
       "      <td>14.395</td>\n",
       "      <td>75</td>\n",
       "      <td>0.0</td>\n",
       "      <td>3</td>\n",
       "      <td>10</td>\n",
       "      <td>13</td>\n",
       "    </tr>\n",
       "    <tr>\n",
       "      <th>4</th>\n",
       "      <td>2011-01-01 04:00:00</td>\n",
       "      <td>1</td>\n",
       "      <td>0</td>\n",
       "      <td>0</td>\n",
       "      <td>1</td>\n",
       "      <td>9.84</td>\n",
       "      <td>14.395</td>\n",
       "      <td>75</td>\n",
       "      <td>0.0</td>\n",
       "      <td>0</td>\n",
       "      <td>1</td>\n",
       "      <td>1</td>\n",
       "    </tr>\n",
       "  </tbody>\n",
       "</table>\n",
       "</div>"
      ],
      "text/plain": [
       "              datetime  season  holiday  workingday  weather  temp   atemp  \\\n",
       "0  2011-01-01 00:00:00       1        0           0        1  9.84  14.395   \n",
       "1  2011-01-01 01:00:00       1        0           0        1  9.02  13.635   \n",
       "2  2011-01-01 02:00:00       1        0           0        1  9.02  13.635   \n",
       "3  2011-01-01 03:00:00       1        0           0        1  9.84  14.395   \n",
       "4  2011-01-01 04:00:00       1        0           0        1  9.84  14.395   \n",
       "\n",
       "   humidity  windspeed  casual  registered  count  \n",
       "0        81        0.0       3          13     16  \n",
       "1        80        0.0       8          32     40  \n",
       "2        80        0.0       5          27     32  \n",
       "3        75        0.0       3          10     13  \n",
       "4        75        0.0       0           1      1  "
      ]
     },
     "execution_count": 20,
     "metadata": {},
     "output_type": "execute_result"
    }
   ],
   "source": [
    "bike_sharing.head(5)"
   ]
  },
  {
   "cell_type": "markdown",
   "metadata": {},
   "source": [
    "Here is a brief description of the data fields:\n",
    "\n",
    "\n",
    "| Field | Description |\n",
    "| ---: | :--- |\n",
    "| datetime | hourly date + timestamp |\n",
    "| season |  `1` = spring, `2` = summer, `3` = fall, `4` = winter |\n",
    "| holiday | whether the day is considered a holiday |\n",
    "| workingday | whether the day is neither a weekend nor holiday |  \n",
    "| weather | `1` = Clear, Few clouds, Partly cloudy, Partly cloudy; `2` = Mist + Cloudy, Mist + Broken clouds, Mist + Few clouds, Mist; `3` = Light Snow, Light Rain + Thunderstorm + Scattered clouds, Light Rain + Scattered clouds; `4` = Heavy Rain + Ice Pallets + Thunderstorm + Mist, Snow + Fog |\n",
    "| temp | temperature in Celsius  | \n",
    "| atemp | \"feels like\" temperature in Celsius |\n",
    "| humidity | relative humidity |\n",
    "| windspeed | wind speed |\n",
    "| casual | number of non-registered user rentals initiated |\n",
    "| registered | number of registered user rentals initiated |\n",
    "| count | number of total rentals |\n"
   ]
  },
  {
   "cell_type": "code",
   "execution_count": 21,
   "metadata": {},
   "outputs": [
    {
     "data": {
      "text/plain": [
       "False"
      ]
     },
     "execution_count": 21,
     "metadata": {},
     "output_type": "execute_result"
    }
   ],
   "source": [
    "'''Before proceeding with regression, first check \n",
    "if there are any missing values'''\n",
    "bike_sharing.isnull().values.any()"
   ]
  },
  {
   "cell_type": "code",
   "execution_count": 22,
   "metadata": {},
   "outputs": [
    {
     "data": {
      "text/plain": [
       "(10886, 12)"
      ]
     },
     "execution_count": 22,
     "metadata": {},
     "output_type": "execute_result"
    }
   ],
   "source": [
    "'''And the size of dataframe'''\n",
    "bike_sharing.shape"
   ]
  },
  {
   "cell_type": "markdown",
   "metadata": {},
   "source": [
    "The dataset has no missing values and contains 10,886 observations (rows) and 12 columns. \n",
    "\n",
    "Let's see if the number of total rent depends on the air temperature."
   ]
  },
  {
   "cell_type": "code",
   "execution_count": 23,
   "metadata": {},
   "outputs": [
    {
     "data": {
      "text/plain": [
       "<matplotlib.collections.PathCollection at 0x108f0bfd0>"
      ]
     },
     "execution_count": 23,
     "metadata": {},
     "output_type": "execute_result"
    },
    {
     "data": {
      "image/png": "[encoded data removed]",
      "text/plain": [
       "<Figure size 432x288 with 1 Axes>"
      ]
     },
     "metadata": {
      "needs_background": "light"
     },
     "output_type": "display_data"
    }
   ],
   "source": [
    "plt.scatter(x=bike_sharing[\"temp\"], y=bike_sharing[\"count\"])"
   ]
  },
  {
   "cell_type": "markdown",
   "metadata": {},
   "source": [
    "This graph does show an upward trend, the number of rents is increasing with temperature. But since data is collected every hour, it would be more informative to show data at a given hour of a day. Before that, we shall create two new columns *month* and *hour*. "
   ]
  },
  {
   "cell_type": "code",
   "execution_count": 24,
   "metadata": {},
   "outputs": [],
   "source": [
    "bike_sharing.datetime = bike_sharing.datetime.apply(pd.to_datetime)"
   ]
  },
  {
   "cell_type": "code",
   "execution_count": 25,
   "metadata": {},
   "outputs": [
    {
     "data": {
      "text/html": [
       "<div>\n",
       "<style scoped>\n",
       "    .dataframe tbody tr th:only-of-type {\n",
       "        vertical-align: middle;\n",
       "    }\n",
       "\n",
       "    .dataframe tbody tr th {\n",
       "        vertical-align: top;\n",
       "    }\n",
       "\n",
       "    .dataframe thead th {\n",
       "        text-align: right;\n",
       "    }\n",
       "</style>\n",
       "<table border=\"1\" class=\"dataframe\">\n",
       "  <thead>\n",
       "    <tr style=\"text-align: right;\">\n",
       "      <th></th>\n",
       "      <th>datetime</th>\n",
       "      <th>season</th>\n",
       "      <th>holiday</th>\n",
       "      <th>workingday</th>\n",
       "      <th>weather</th>\n",
       "      <th>temp</th>\n",
       "      <th>atemp</th>\n",
       "      <th>humidity</th>\n",
       "      <th>windspeed</th>\n",
       "      <th>casual</th>\n",
       "      <th>registered</th>\n",
       "      <th>count</th>\n",
       "      <th>month</th>\n",
       "      <th>hour</th>\n",
       "    </tr>\n",
       "  </thead>\n",
       "  <tbody>\n",
       "    <tr>\n",
       "      <th>0</th>\n",
       "      <td>2011-01-01 00:00:00</td>\n",
       "      <td>1</td>\n",
       "      <td>0</td>\n",
       "      <td>0</td>\n",
       "      <td>1</td>\n",
       "      <td>9.84</td>\n",
       "      <td>14.395</td>\n",
       "      <td>81</td>\n",
       "      <td>0.0</td>\n",
       "      <td>3</td>\n",
       "      <td>13</td>\n",
       "      <td>16</td>\n",
       "      <td>1</td>\n",
       "      <td>0</td>\n",
       "    </tr>\n",
       "    <tr>\n",
       "      <th>1</th>\n",
       "      <td>2011-01-01 01:00:00</td>\n",
       "      <td>1</td>\n",
       "      <td>0</td>\n",
       "      <td>0</td>\n",
       "      <td>1</td>\n",
       "      <td>9.02</td>\n",
       "      <td>13.635</td>\n",
       "      <td>80</td>\n",
       "      <td>0.0</td>\n",
       "      <td>8</td>\n",
       "      <td>32</td>\n",
       "      <td>40</td>\n",
       "      <td>1</td>\n",
       "      <td>1</td>\n",
       "    </tr>\n",
       "    <tr>\n",
       "      <th>2</th>\n",
       "      <td>2011-01-01 02:00:00</td>\n",
       "      <td>1</td>\n",
       "      <td>0</td>\n",
       "      <td>0</td>\n",
       "      <td>1</td>\n",
       "      <td>9.02</td>\n",
       "      <td>13.635</td>\n",
       "      <td>80</td>\n",
       "      <td>0.0</td>\n",
       "      <td>5</td>\n",
       "      <td>27</td>\n",
       "      <td>32</td>\n",
       "      <td>1</td>\n",
       "      <td>2</td>\n",
       "    </tr>\n",
       "    <tr>\n",
       "      <th>3</th>\n",
       "      <td>2011-01-01 03:00:00</td>\n",
       "      <td>1</td>\n",
       "      <td>0</td>\n",
       "      <td>0</td>\n",
       "      <td>1</td>\n",
       "      <td>9.84</td>\n",
       "      <td>14.395</td>\n",
       "      <td>75</td>\n",
       "      <td>0.0</td>\n",
       "      <td>3</td>\n",
       "      <td>10</td>\n",
       "      <td>13</td>\n",
       "      <td>1</td>\n",
       "      <td>3</td>\n",
       "    </tr>\n",
       "    <tr>\n",
       "      <th>4</th>\n",
       "      <td>2011-01-01 04:00:00</td>\n",
       "      <td>1</td>\n",
       "      <td>0</td>\n",
       "      <td>0</td>\n",
       "      <td>1</td>\n",
       "      <td>9.84</td>\n",
       "      <td>14.395</td>\n",
       "      <td>75</td>\n",
       "      <td>0.0</td>\n",
       "      <td>0</td>\n",
       "      <td>1</td>\n",
       "      <td>1</td>\n",
       "      <td>1</td>\n",
       "      <td>4</td>\n",
       "    </tr>\n",
       "  </tbody>\n",
       "</table>\n",
       "</div>"
      ],
      "text/plain": [
       "             datetime  season  holiday  workingday  weather  temp   atemp  \\\n",
       "0 2011-01-01 00:00:00       1        0           0        1  9.84  14.395   \n",
       "1 2011-01-01 01:00:00       1        0           0        1  9.02  13.635   \n",
       "2 2011-01-01 02:00:00       1        0           0        1  9.02  13.635   \n",
       "3 2011-01-01 03:00:00       1        0           0        1  9.84  14.395   \n",
       "4 2011-01-01 04:00:00       1        0           0        1  9.84  14.395   \n",
       "\n",
       "   humidity  windspeed  casual  registered  count  month  hour  \n",
       "0        81        0.0       3          13     16      1     0  \n",
       "1        80        0.0       8          32     40      1     1  \n",
       "2        80        0.0       5          27     32      1     2  \n",
       "3        75        0.0       3          10     13      1     3  \n",
       "4        75        0.0       0           1      1      1     4  "
      ]
     },
     "execution_count": 25,
     "metadata": {},
     "output_type": "execute_result"
    }
   ],
   "source": [
    "bike_sharing['month'] = bike_sharing.datetime.apply(lambda x : x.month)\n",
    "bike_sharing['hour'] = bike_sharing.datetime.apply(lambda x: x.hour)\n",
    "bike_sharing.head(5)"
   ]
  },
  {
   "cell_type": "code",
   "execution_count": 26,
   "metadata": {},
   "outputs": [],
   "source": [
    "# Here we fetch only row with hour = 15\n",
    "bike_sharing_15 = bike_sharing.loc[bike_sharing['hour'] == 15]"
   ]
  },
  {
   "cell_type": "code",
   "execution_count": 27,
   "metadata": {},
   "outputs": [
    {
     "data": {
      "text/html": [
       "<div>\n",
       "<style scoped>\n",
       "    .dataframe tbody tr th:only-of-type {\n",
       "        vertical-align: middle;\n",
       "    }\n",
       "\n",
       "    .dataframe tbody tr th {\n",
       "        vertical-align: top;\n",
       "    }\n",
       "\n",
       "    .dataframe thead th {\n",
       "        text-align: right;\n",
       "    }\n",
       "</style>\n",
       "<table border=\"1\" class=\"dataframe\">\n",
       "  <thead>\n",
       "    <tr style=\"text-align: right;\">\n",
       "      <th></th>\n",
       "      <th>datetime</th>\n",
       "      <th>season</th>\n",
       "      <th>holiday</th>\n",
       "      <th>workingday</th>\n",
       "      <th>weather</th>\n",
       "      <th>temp</th>\n",
       "      <th>atemp</th>\n",
       "      <th>humidity</th>\n",
       "      <th>windspeed</th>\n",
       "      <th>casual</th>\n",
       "      <th>registered</th>\n",
       "      <th>count</th>\n",
       "      <th>month</th>\n",
       "      <th>hour</th>\n",
       "    </tr>\n",
       "  </thead>\n",
       "  <tbody>\n",
       "    <tr>\n",
       "      <th>15</th>\n",
       "      <td>2011-01-01 15:00:00</td>\n",
       "      <td>1</td>\n",
       "      <td>0</td>\n",
       "      <td>0</td>\n",
       "      <td>2</td>\n",
       "      <td>18.04</td>\n",
       "      <td>21.970</td>\n",
       "      <td>77</td>\n",
       "      <td>19.9995</td>\n",
       "      <td>40</td>\n",
       "      <td>70</td>\n",
       "      <td>110</td>\n",
       "      <td>1</td>\n",
       "      <td>15</td>\n",
       "    </tr>\n",
       "    <tr>\n",
       "      <th>38</th>\n",
       "      <td>2011-01-02 15:00:00</td>\n",
       "      <td>1</td>\n",
       "      <td>0</td>\n",
       "      <td>0</td>\n",
       "      <td>3</td>\n",
       "      <td>13.94</td>\n",
       "      <td>16.665</td>\n",
       "      <td>81</td>\n",
       "      <td>11.0014</td>\n",
       "      <td>19</td>\n",
       "      <td>55</td>\n",
       "      <td>74</td>\n",
       "      <td>1</td>\n",
       "      <td>15</td>\n",
       "    </tr>\n",
       "    <tr>\n",
       "      <th>60</th>\n",
       "      <td>2011-01-03 15:00:00</td>\n",
       "      <td>1</td>\n",
       "      <td>0</td>\n",
       "      <td>1</td>\n",
       "      <td>1</td>\n",
       "      <td>10.66</td>\n",
       "      <td>12.120</td>\n",
       "      <td>30</td>\n",
       "      <td>16.9979</td>\n",
       "      <td>14</td>\n",
       "      <td>58</td>\n",
       "      <td>72</td>\n",
       "      <td>1</td>\n",
       "      <td>15</td>\n",
       "    </tr>\n",
       "    <tr>\n",
       "      <th>83</th>\n",
       "      <td>2011-01-04 15:00:00</td>\n",
       "      <td>1</td>\n",
       "      <td>0</td>\n",
       "      <td>1</td>\n",
       "      <td>1</td>\n",
       "      <td>11.48</td>\n",
       "      <td>13.635</td>\n",
       "      <td>52</td>\n",
       "      <td>16.9979</td>\n",
       "      <td>17</td>\n",
       "      <td>48</td>\n",
       "      <td>65</td>\n",
       "      <td>1</td>\n",
       "      <td>15</td>\n",
       "    </tr>\n",
       "    <tr>\n",
       "      <th>106</th>\n",
       "      <td>2011-01-05 15:00:00</td>\n",
       "      <td>1</td>\n",
       "      <td>0</td>\n",
       "      <td>1</td>\n",
       "      <td>1</td>\n",
       "      <td>12.30</td>\n",
       "      <td>14.395</td>\n",
       "      <td>28</td>\n",
       "      <td>12.9980</td>\n",
       "      <td>7</td>\n",
       "      <td>55</td>\n",
       "      <td>62</td>\n",
       "      <td>1</td>\n",
       "      <td>15</td>\n",
       "    </tr>\n",
       "  </tbody>\n",
       "</table>\n",
       "</div>"
      ],
      "text/plain": [
       "               datetime  season  holiday  workingday  weather   temp   atemp  \\\n",
       "15  2011-01-01 15:00:00       1        0           0        2  18.04  21.970   \n",
       "38  2011-01-02 15:00:00       1        0           0        3  13.94  16.665   \n",
       "60  2011-01-03 15:00:00       1        0           1        1  10.66  12.120   \n",
       "83  2011-01-04 15:00:00       1        0           1        1  11.48  13.635   \n",
       "106 2011-01-05 15:00:00       1        0           1        1  12.30  14.395   \n",
       "\n",
       "     humidity  windspeed  casual  registered  count  month  hour  \n",
       "15         77    19.9995      40          70    110      1    15  \n",
       "38         81    11.0014      19          55     74      1    15  \n",
       "60         30    16.9979      14          58     72      1    15  \n",
       "83         52    16.9979      17          48     65      1    15  \n",
       "106        28    12.9980       7          55     62      1    15  "
      ]
     },
     "execution_count": 27,
     "metadata": {},
     "output_type": "execute_result"
    }
   ],
   "source": [
    "bike_sharing_15.head(5)"
   ]
  },
  {
   "cell_type": "code",
   "execution_count": 28,
   "metadata": {},
   "outputs": [
    {
     "data": {
      "text/plain": [
       "(456, 14)"
      ]
     },
     "execution_count": 28,
     "metadata": {},
     "output_type": "execute_result"
    }
   ],
   "source": [
    "bike_sharing_15.shape"
   ]
  },
  {
   "cell_type": "code",
   "execution_count": 29,
   "metadata": {},
   "outputs": [
    {
     "data": {
      "text/plain": [
       "Text(0, 0.5, 'Count')"
      ]
     },
     "execution_count": 29,
     "metadata": {},
     "output_type": "execute_result"
    },
    {
     "data": {
      "image/png": "[encoded data removed]",
      "text/plain": [
       "<Figure size 432x288 with 1 Axes>"
      ]
     },
     "metadata": {
      "needs_background": "light"
     },
     "output_type": "display_data"
    }
   ],
   "source": [
    "plt.scatter(x=bike_sharing_15[\"atemp\"], y=bike_sharing_15[\"count\"])\n",
    "plt.xlabel(\"temp\")\n",
    "plt.ylabel('Count')"
   ]
  },
  {
   "cell_type": "code",
   "execution_count": 31,
   "metadata": {},
   "outputs": [
    {
     "name": "stdout",
     "output_type": "stream",
     "text": [
      "[6.99568077]\n",
      "91.42560375076252\n"
     ]
    }
   ],
   "source": [
    "# scikit-learn needs the data organized as numpy vectors\n",
    "Y = bike_sharing_15[\"count\"]\n",
    "X = bike_sharing_15[\"temp\"].values.reshape(-1, 1)\n",
    "\n",
    "# the model to do the fit\n",
    "model = sklearn.linear_model.LinearRegression().fit(X, Y)\n",
    "print(model.coef_)\n",
    "print(model.intercept_)"
   ]
  },
  {
   "cell_type": "code",
   "execution_count": 32,
   "metadata": {},
   "outputs": [],
   "source": [
    "'''Let's calculate predicted value of count,\n",
    "using result of our model with one variable X'''\n",
    "\n",
    "lin_predicted_one = model.predict(X)"
   ]
  },
  {
   "cell_type": "code",
   "execution_count": 33,
   "metadata": {},
   "outputs": [
    {
     "data": {
      "text/plain": [
       "Text(0, 0.5, 'Count')"
      ]
     },
     "execution_count": 33,
     "metadata": {},
     "output_type": "execute_result"
    },
    {
     "data": {
      "image/png": "[encoded data removed]",
      "text/plain": [
       "<Figure size 432x288 with 1 Axes>"
      ]
     },
     "metadata": {
      "needs_background": "light"
     },
     "output_type": "display_data"
    }
   ],
   "source": [
    "'''The graph below shows how well the model (line) fits the data'''\n",
    "plt.scatter(x=bike_sharing_15[\"atemp\"], y=bike_sharing_15[\"count\"])\n",
    "plt.plot(X, model.predict(X), 'r-')\n",
    "plt.xlabel(\"temp\")\n",
    "plt.ylabel('Count')"
   ]
  },
  {
   "cell_type": "code",
   "execution_count": 34,
   "metadata": {},
   "outputs": [
    {
     "name": "stdout",
     "output_type": "stream",
     "text": [
      "133.06710533692635\n"
     ]
    }
   ],
   "source": [
    "'''As a mesure of \"goodness\" the Root Mean Square Error is calculated.\n",
    "The actual data (Y column) and predicted values are compared.'''\n",
    "\n",
    "from sklearn.metrics import mean_squared_error, r2_score\n",
    "\n",
    "lin_one_mse= mean_squared_error(Y, lin_predicted_one)\n",
    "lin_one_rmse = np.sqrt(lin_one_mse)\n",
    "\n",
    "print(lin_one_rmse)"
   ]
  },
  {
   "cell_type": "markdown",
   "metadata": {},
   "source": [
    "For the best fit, the smallest possible number of root mean square error (RMSE) is expected, but we should not expect zero for a real dataset (zero would mean all observations fall on the straight line).  The computed value of RMSE should be compared with the data spread. The graph shows that the calculated values are scattered in wide range between 0 and 700, so that RSME value of 133.067 seems to be reasonable.\n",
    "\n",
    "The other useful metrics are:\n",
    "* `explained_varince_score` - compares the fit to the variance of data points; best possible score is 1.0, lower values are worse,\n",
    "* `mean_absolute_error` - returns mean absolute error. \n",
    "All `sklearn` metrics can be imported from `sklearn.metrics`, the meaning of other metrics will be explained in the next course, Statistics for Data Science"
   ]
  },
  {
   "cell_type": "code",
   "execution_count": 35,
   "metadata": {},
   "outputs": [
    {
     "name": "stdout",
     "output_type": "stream",
     "text": [
      "[ 6.69169846 -1.26172547]\n",
      "159.1625510018755\n"
     ]
    }
   ],
   "source": [
    "'''This is an example of multi-variable fit, in this case 2 variables: temp and humidity'''\n",
    "'''scikit-learn needs the data organized as numpy vectors'''\n",
    "\n",
    "Y = bike_sharing_15[\"count\"]\n",
    "X_temp_hum = bike_sharing_15[[\"temp\", \"humidity\"]]\n",
    "model_two_variables = sklearn.linear_model.LinearRegression().fit(X_temp_hum, Y)\n",
    "print(model_two_variables.coef_)\n",
    "print(model_two_variables.intercept_)"
   ]
  },
  {
   "cell_type": "code",
   "execution_count": 36,
   "metadata": {},
   "outputs": [
    {
     "name": "stdout",
     "output_type": "stream",
     "text": [
      "131.11213598724154\n"
     ]
    }
   ],
   "source": [
    "'''Note that the intercept and temp coefficient changed when another variable was added'''\n",
    "\n",
    "lin_predicted_two = model_two_variables.predict(X_temp_hum)\n",
    "\n",
    "lin_two_mse= mean_squared_error(Y, lin_predicted_two)\n",
    "lin_two_rmse = np.sqrt(lin_two_mse)\n",
    "print(lin_two_rmse)"
   ]
  },
  {
   "cell_type": "markdown",
   "metadata": {},
   "source": [
    "__EXERCISE 1__. Build a regression prediction model for the Tobacco-Alcohol dataset from Connor Johnson blog using Scikit-learn Linear Regression. \n",
    "**NOTE:** The dataset was prepared in Linear regression section of this module.\n",
    "Evaluate the results by RMSE metrics."
   ]
  },
  {
   "cell_type": "code",
   "execution_count": null,
   "metadata": {},
   "outputs": [],
   "source": [
    "# YOUR CODE HERE."
   ]
  },
  {
   "cell_type": "markdown",
   "metadata": {},
   "source": [
    "__EXERCISE 2__. Use Scikit-learn Linear Regression to build prediction models  for bike __count__ from bike_sharing_15 dataset with different combinations of predictors available in the dataset ('temp', humidity', 'windspeed', 'registered', 'workingday'). Again, evaluate results by computing RMSE. "
   ]
  },
  {
   "cell_type": "code",
   "execution_count": 53,
   "metadata": {},
   "outputs": [],
   "source": [
    "# YOUR CODE HERE."
   ]
  },
  {
   "cell_type": "markdown",
   "metadata": {},
   "source": [
    "## K-Nearest Neighbors (kNN)"
   ]
  },
  {
   "cell_type": "markdown",
   "metadata": {},
   "source": [
    "The [**k-Nearest Neighbors**](https://en.wikipedia.org/wiki/K-nearest_neighbors_algorithm), or k-NN, algorithm is one of the most widely used classification techniques. It is a very simple yet powerful algorithm. It is part of the supervised machine learning family of algorithms. \n",
    "\n",
    "KNN algorithm analyses the entire dataset and determines the class of a new data point based on similarity measures (e.g. distance function). Classification is done by a majority vote of its neighbors. A new data point is assigned to the class which has the most nearest neighbors around this new data point. `k` is the number of neighbors that the algorithm considers in the calculations. Usually, `k` is a small positive integer. If `k = 1`, then the object is simply assigned to the class of that single nearest neighbor.\n",
    "\n",
    "Here is a simple example:\n",
    "\n",
    "<img src='https://upload.wikimedia.org/wikipedia/commons/e/e7/KnnClassification.svg' height=\"300\" width=\"300\" alt=\"Example of k-NN classification\">\n",
    "\n",
    "**Image source:** [Wikimedia, Antti Ajanki AnAj - Own work, CC BY-SA 3.0](https://commons.wikimedia.org/w/index.php?curid=2170282)"
   ]
  },
  {
   "cell_type": "markdown",
   "metadata": {},
   "source": [
    "In this example, we are trying to determine the class of a green dot. Do we need to classify it as a blue square or a red triangle? If we use kNN algorithm with `k = 3`, we will find 3 existing objects close to the green dot as indicated by the solid line circle. There are 2 red triangles and only 1 blue square inside the solid line circle. Hence, the green dot will be classified as a **red triangle**. If `k = 5` (dashed line circle), the green dot becomes a **blue square** as there are 3 squares vs. 2 triangles inside the dashed circle."
   ]
  },
  {
   "cell_type": "markdown",
   "metadata": {},
   "source": [
    "The kNN algorithm can also be used to solve **regression** problems. In this case, the prediction is based on the mean or the median of the `k`-most similar instances.\n",
    "\n",
    "The kNN algorithm is easy to implement from scratch. This article, [Tutorial To Implement k-Nearest Neighbors in Python From Scratch](https://machinelearningmastery.com/tutorial-to-implement-k-nearest-neighbors-in-python-from-scratch/), is a good example of kNN implementation. Please **NOTE** that this implementation is for Python 2.7.\n",
    "\n",
    "However, as you can expect,  you don't need to write kNN implementation from scratch as `scikit-learn` library contains implementation of [nearest neighbors classifier](https://scikit-learn.org/stable/modules/neighbors.html#classification), `KNeighborsClassifier`, which you will use in one of the assignments for this course."
   ]
  },
  {
   "cell_type": "markdown",
   "metadata": {},
   "source": [
    "-----"
   ]
  },
  {
   "cell_type": "markdown",
   "metadata": {},
   "source": [
    "You have reached the end of this module.\n",
    "\n",
    "If you have any questions, please reach out to your peers using the discussion boards. If you and your peers are unable to come to a suitable conclusion, do not hesitate to reach out to your instructor on the designated discussion board.\n",
    "\n",
    "When you are comfortable with the content, and have practiced to your satisfaction, you may proceed to any relavant assignments, and to the next module.\n",
    "\n",
    "The next module covers Logistic Regression, Support Vector Machines, Decision Trees and Random Forest."
   ]
  },
  {
   "cell_type": "markdown",
   "metadata": {},
   "source": [
    "## References"
   ]
  },
  {
   "cell_type": "markdown",
   "metadata": {},
   "source": [
    "Johnson, C. (2014). blog post Feb 18, 2014 - *Linear Regression with Python*  (http://connor-johnson.com/2014/02/18/linear-regression-with-python/).\n",
    "\n",
    "MNIST database, n.d. Wikipedia, accessed Sept 7, 2018. (https://en.wikipedia.org/wiki/MNIST_database).\n",
    "\n",
    "Ng, A. (2018)  _Machine Learning Yearning_ (electronic book in progress; draft copies available http://www.mlyearning.org/).\n",
    "\n",
    "Unsupervised Learning. n.d. Wikipedia, accessed Sept 7, 2018.(https://en.wikipedia.org/wiki/Unsupervised_learning#Approaches).\n",
    "\n",
    "Witten, I.H, Frank, E. (2005) *Data Mining. Practical Machine Learnng Tools and Techniques* (2nd edition). Elsevier.\n"
   ]
  },
  {
   "cell_type": "code",
   "execution_count": null,
   "metadata": {},
   "outputs": [],
   "source": []
  }
 ],
 "metadata": {
  "kernelspec": {
   "display_name": "Python 3",
   "language": "python",
   "name": "python3"
  },
  "language_info": {
   "codemirror_mode": {
    "name": "ipython",
    "version": 3
   },
   "file_extension": ".py",
   "mimetype": "text/x-python",
   "name": "python",
   "nbconvert_exporter": "python",
   "pygments_lexer": "ipython3",
   "version": "3.6.0"
  },
  "latex_envs": {
   "LaTeX_envs_menu_present": true,
   "autoclose": false,
   "autocomplete": true,
   "bibliofile": "biblio.bib",
   "cite_by": "apalike",
   "current_citInitial": 1,
   "eqLabelWithNumbers": true,
   "eqNumInitial": 1,
   "hotkeys": {
    "equation": "Ctrl-E",
    "itemize": "Ctrl-I"
   },
   "labels_anchors": false,
   "latex_user_defs": false,
   "report_style_numbering": false,
   "user_envs_cfg": false
  },
  "nbTranslate": {
   "displayLangs": [
    "*"
   ],
   "hotkey": "alt-t",
   "langInMainMenu": true,
   "sourceLang": "en",
   "targetLang": "fr",
   "useGoogleTranslate": true
  },
  "toc": {
   "base_numbering": 1,
   "nav_menu": {},
   "number_sections": true,
   "sideBar": true,
   "skip_h1_title": true,
   "title_cell": "Table of Contents",
   "title_sidebar": "Contents",
   "toc_cell": true,
   "toc_position": {},
   "toc_section_display": true,
   "toc_window_display": true
  },
  "varInspector": {
   "cols": {
    "lenName": 16,
    "lenType": 16,
    "lenVar": 40
   },
   "kernels_config": {
    "python": {
     "delete_cmd_postfix": "",
     "delete_cmd_prefix": "del ",
     "library": "var_list.py",
     "varRefreshCmd": "print(var_dic_list())"
    },
    "r": {
     "delete_cmd_postfix": ") ",
     "delete_cmd_prefix": "rm(",
     "library": "var_list.r",
     "varRefreshCmd": "cat(var_dic_list()) "
    }
   },
   "types_to_exclude": [
    "module",
    "function",
    "builtin_function_or_method",
    "instance",
    "_Feature"
   ],
   "window_display": false
  }
 },
 "nbformat": 4,
 "nbformat_minor": 2
}
